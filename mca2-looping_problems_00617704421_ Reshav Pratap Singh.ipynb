{
 "cells": [
  {
   "cell_type": "code",
   "execution_count": 72,
   "id": "8090281a",
   "metadata": {},
   "outputs": [
    {
     "name": "stdout",
     "output_type": "stream",
     "text": [
      "1\n",
      "2\n",
      "3\n",
      "4\n",
      "5\n",
      "6\n",
      "7\n",
      "8\n",
      "9\n",
      "10\n",
      "11\n"
     ]
    }
   ],
   "source": [
    "#concept of while loop with else\n",
    "i=1\n",
    "while i<=10:\n",
    "    print(i)\n",
    "    i+=1\n",
    "else:\n",
    "    print(i)"
   ]
  },
  {
   "cell_type": "code",
   "execution_count": 73,
   "id": "53bb5d86",
   "metadata": {},
   "outputs": [
    {
     "name": "stdout",
     "output_type": "stream",
     "text": [
      "-----Break Statement-------\n",
      "G r i \n",
      "\n",
      "Out of for loop\n",
      "\n",
      "-----Continue Statement----\n",
      "G r i f f i n L e o \n",
      "\n",
      "Out of for loop\n",
      "\n",
      "-----Pass Statement------\n",
      "G r \n",
      "Pass executed\n",
      "i f f \n",
      "Pass executed\n",
      "i n L e o \n",
      "\n",
      "Out of for loop\n"
     ]
    }
   ],
   "source": [
    "#concept of break, continue and pass statement\n",
    "\n",
    "s = 'GriffinLeo'\n",
    "print(\"-----Break Statement-------\")\n",
    "for letter in s: \n",
    "    print(letter,end=\" \") \n",
    "    if letter == 'i' or letter == 'f': \n",
    "        break       \n",
    "print(\"\\n\\nOut of for loop\") \n",
    "\n",
    "print(\"\\n-----Continue Statement----\")\n",
    "for letter in s: \n",
    "    print(letter,end=\" \") \n",
    "    if letter == 'i' or letter == 'f': \n",
    "        continue       \n",
    "print(\"\\n\\nOut of for loop\") \n",
    "\n",
    "print(\"\\n-----Pass Statement------\")\n",
    "for letter in s: \n",
    "    if letter == 'i': \n",
    "        print('\\nPass executed')\n",
    "        pass       \n",
    "    print(letter,end=\" \")\n",
    "print(\"\\n\\nOut of for loop\")"
   ]
  },
  {
   "cell_type": "code",
   "execution_count": 74,
   "id": "9b248e6f",
   "metadata": {},
   "outputs": [
    {
     "name": "stdout",
     "output_type": "stream",
     "text": [
      "Enter the Number for Multiplication Table:9\n",
      "9 * 1 = 9\n",
      "9 * 2 = 18\n",
      "9 * 3 = 27\n",
      "9 * 4 = 36\n",
      "9 * 5 = 45\n",
      "9 * 6 = 54\n",
      "9 * 7 = 63\n",
      "9 * 8 = 72\n",
      "9 * 9 = 81\n",
      "9 * 10 = 90\n"
     ]
    }
   ],
   "source": [
    "#Write a program to print the multiplication table of the number entered by the user with proper format \n",
    "a=eval(input(\"Enter the Number for Multiplication Table:\"))\n",
    "for i in range(1,11):\n",
    "    print(f\"{a} * {i} = {a*i}\")"
   ]
  },
  {
   "cell_type": "code",
   "execution_count": 75,
   "id": "87cc7821",
   "metadata": {},
   "outputs": [
    {
     "name": "stdout",
     "output_type": "stream",
     "text": [
      "Enter the Positive Integer:5\n",
      "1\n",
      "2\n",
      "3\n",
      "4\n",
      "5\n"
     ]
    }
   ],
   "source": [
    "#Accept a positive integer n as input and print the first n positive integers, one number on each line.\n",
    "n=eval(input(\"Enter the Positive Integer:\"))\n",
    "for i in range(1,n+1):\n",
    "    print(i)"
   ]
  },
  {
   "cell_type": "code",
   "execution_count": 76,
   "id": "ee5bdb24",
   "metadata": {},
   "outputs": [
    {
     "name": "stdout",
     "output_type": "stream",
     "text": [
      "Enter the Positive Integer:8\n",
      "1\n",
      "2\n",
      "4\n"
     ]
    }
   ],
   "source": [
    "#Accept a positive integer n as input and print all the factors of n, one number on each line.\n",
    "n=eval(input(\"Enter the Positive Integer:\"))\n",
    "for i in range(1,n):\n",
    "    if(n%i==0):\n",
    "        print(i)"
   ]
  },
  {
   "cell_type": "code",
   "execution_count": 79,
   "id": "6c8cbed1",
   "metadata": {},
   "outputs": [
    {
     "name": "stdout",
     "output_type": "stream",
     "text": [
      "Enter the Positive Integer:567\n",
      "18\n"
     ]
    }
   ],
   "source": [
    "#Accept a positive integer as input and print the sum of the digits in the number.\n",
    "n=eval(input(\"Enter the Positive Integer:\"))\n",
    "sum=0;\n",
    "while(n>0):\n",
    "    remainder=n%10\n",
    "    sum+=remainder\n",
    "    n=n//10\n",
    "else:\n",
    "    print(sum)"
   ]
  },
  {
   "cell_type": "code",
   "execution_count": 80,
   "id": "cc5b7f3f",
   "metadata": {},
   "outputs": [
    {
     "name": "stdout",
     "output_type": "stream",
     "text": [
      "Enter the Positive Integer:8\n",
      "1,2,3,4,5,6,7,8,"
     ]
    }
   ],
   "source": [
    "#Accept a positive integer n as input and print the first n integers on a line separated by a comma.\n",
    "n=eval(input(\"Enter the Positive Integer:\"))\n",
    "for i in range(1,n+1):\n",
    "    print(i,end=\",\")"
   ]
  },
  {
   "cell_type": "code",
   "execution_count": 63,
   "id": "ab90aca4",
   "metadata": {},
   "outputs": [
    {
     "name": "stdout",
     "output_type": "stream",
     "text": [
      "Enter number of rows: 5\n",
      "0 \n",
      "00 \n",
      "000 \n",
      "0000 \n",
      "00000 \n"
     ]
    }
   ],
   "source": [
    "#Accept a positive integer n as input and print a triangle of zeros for n lines. The ith line should have i zeros.\n",
    "#There shouldn't be any spaces between consecutive zeros. Do not print a space at the end of a line.\n",
    "n = int(input(\"Enter number of rows: \"))\n",
    "for i in range(n):\n",
    "    for j in range(i+1):\n",
    "        print(\"0\",end=\"\")\n",
    "    print(\" \")"
   ]
  },
  {
   "cell_type": "code",
   "execution_count": 62,
   "id": "2079f26e",
   "metadata": {},
   "outputs": [
    {
     "name": "stdout",
     "output_type": "stream",
     "text": [
      "Enter number of rows: 4\n",
      "1  \n",
      "2 2  \n",
      "3 3 3  \n",
      "4 4 4 4  \n"
     ]
    }
   ],
   "source": [
    "#display the following output\n",
    "'''\n",
    "1\n",
    "2 2\n",
    "3 3 3\n",
    "4 4 4 4'''\n",
    "n = int(input(\"Enter number of rows: \"))\n",
    "for i in range(1,n+1):\n",
    "    for j in range(1,i+1):\n",
    "        print(i,end=\" \")\n",
    "    print(\" \")"
   ]
  },
  {
   "cell_type": "code",
   "execution_count": 10,
   "id": "0323c70d",
   "metadata": {},
   "outputs": [
    {
     "name": "stdout",
     "output_type": "stream",
     "text": [
      "1 3 5 7 9 11 13 15 17 19 21 23 25 "
     ]
    }
   ],
   "source": [
    "#Write a program to print first 25 odd numbers using range( ).\n",
    "n=25\n",
    "for i in range(1,n+1):\n",
    "    if(i%2!=0):\n",
    "        print(i,end=\" \")\n"
   ]
  },
  {
   "cell_type": "code",
   "execution_count": 16,
   "id": "4f961390",
   "metadata": {},
   "outputs": [
    {
     "name": "stdout",
     "output_type": "stream",
     "text": [
      "Enter a number: 5\n",
      "The Factorial for 5 is 120\n"
     ]
    }
   ],
   "source": [
    "#Write a program to find the factorial value of any number entered through the keyboard.\n",
    "\n",
    "num=int(input(\"Enter a number: \"))\n",
    "fact=1;\n",
    "n = num;\n",
    "while (num!=0):\n",
    "    fact = fact*num;\n",
    "    num = num-1;\n",
    "print(f\"The Factorial for {n} is\",fact)\n"
   ]
  },
  {
   "cell_type": "code",
   "execution_count": 15,
   "id": "7d34415d",
   "metadata": {},
   "outputs": [
    {
     "name": "stdout",
     "output_type": "stream",
     "text": [
      "153\n",
      "370\n",
      "371\n",
      "407\n"
     ]
    }
   ],
   "source": [
    "# Write a program to print out all Armstrong numbers between 100 and 500. If sum of cubes of each digit of the \n",
    "# number is equal to the number itself, then the number is called an Armstrong number. For\n",
    "#example, 153 = ( 1 * 1 * 1 ) + ( 5 * 5 * 5 ) + ( 3 * 3 * 3 ).\n",
    "\n",
    "lower = 100 \n",
    "upper = 500 \n",
    "\n",
    "for i in range(lower,upper + 1):  \n",
    "    sum = 0  \n",
    "    temp = i  \n",
    "    while temp > 0:  \n",
    "        digit = temp % 10  \n",
    "        sum += digit ** 3  \n",
    "        temp //= 10  \n",
    "    if i == sum:  \n",
    "        print(i)          "
   ]
  },
  {
   "cell_type": "code",
   "execution_count": 82,
   "id": "7b26b6b6",
   "metadata": {},
   "outputs": [
    {
     "name": "stdout",
     "output_type": "stream",
     "text": [
      "Prime Numbers from 1 to 300\n",
      "2 3 5 7 11 13 17 19 23 29 31 37 41 43 47 53 59 61 67 71 73 79 83 89 97 101 103 107 109 113 127 131 137 139 149 151 157 163 167 173 179 181 191 193 197 199 211 223 227 229 233 239 241 251 257 263 269 271 277 281 283 293 "
     ]
    }
   ],
   "source": [
    "#Write a program to print all prime numbers from 1 to 300.\n",
    "n=300\n",
    "print(\"Prime Numbers from 1 to 300\")\n",
    "for i in range(1,n+1):\n",
    "    if(i>1):\n",
    "        for j in range(2,i):\n",
    "            if (i % j) == 0:\n",
    "                break\n",
    "        else:\n",
    "            print(i,end=\" \")"
   ]
  },
  {
   "cell_type": "code",
   "execution_count": 119,
   "id": "d12a7da5",
   "metadata": {},
   "outputs": [
    {
     "name": "stdout",
     "output_type": "stream",
     "text": [
      "Enter the Number: 7\n",
      "Prime Numbers from 1 to 7\n",
      "2 3 5 7 \n",
      "Addition of Prime Number : 17\n"
     ]
    }
   ],
   "source": [
    " #Accept a positive integer n as input and print the sum of all prime numbers in the range [1, n], endpoints inclusive. \n",
    "#If there are no prime numbers in the given range, then print 0.\n",
    "n=int(input(\"Enter the Number: \"))\n",
    "sum=0\n",
    "print(f\"Prime Numbers from 1 to {n}\")\n",
    "for i in range(1,n+1):\n",
    "    if(i>1):\n",
    "        for j in range(2,i):\n",
    "            if (i % j) == 0:\n",
    "                break\n",
    "        else:\n",
    "            print(i,end=\" \")\n",
    "            sum+=i\n",
    "print(\"\\nAddition of Prime Number :\",sum)"
   ]
  },
  {
   "cell_type": "code",
   "execution_count": 92,
   "id": "3d6bdcd6",
   "metadata": {},
   "outputs": [
    {
     "name": "stdout",
     "output_type": "stream",
     "text": [
      "Enter the number:5\n",
      "The square of 1 is equal to 1\n",
      "The square of 2 is equal to 4\n",
      "The square of 3 is equal to 9\n",
      "The square of 4 is equal to 16\n",
      "The square of 5 is equal to 25\n"
     ]
    }
   ],
   "source": [
    "'''Write code that produces the following output:\n",
    "The square of 1 is equal to 1\n",
    "The square of 2 is equal to 4\n",
    "The square of 3 is equal to 9\n",
    "The square of 4 is equal to 16\n",
    "The square of 5 is equal to 25\n",
    "'''\n",
    "n=int(input(\"Enter the number:\"))\n",
    "for i in range(1,n+1):\n",
    "    print(f\"The square of {i} is equal to {i*i}\")\n",
    "    n-=1"
   ]
  },
  {
   "cell_type": "code",
   "execution_count": 67,
   "id": "2b10762e",
   "metadata": {},
   "outputs": [
    {
     "name": "stdout",
     "output_type": "stream",
     "text": [
      "Enter the two positive integer :9 8\n",
      "\n",
      "-----Range Between 1000 and 2000------\n",
      "1008 1080 1152 1224 1296 1368 1440 1512 1584 1656 1728 1800 1872 1944 \n",
      "\n",
      "Sum of all integer in the range 1000 and 2000 : 82656\n"
     ]
    }
   ],
   "source": [
    "'''Accept two positive integers a and b as input. Print the sum of all integers in the range [1000, 2000],\n",
    "endpoints inclusive, that are divisible by both a and b. If you find no number satisfying this \n",
    "condition in the given range, then print 0.'''\n",
    "a,b=input(\"Enter the two positive integer :\").split()\n",
    "a,b=int(a),int(b)\n",
    "#sum=0\n",
    "print(\"\\n-----Range Between 1000 and 2000------\")\n",
    "if((a and b )> 0):\n",
    "    for i in range(1000,2001):\n",
    "        if((i%a==0) and (i%b==0)):\n",
    "            print(i,end=\" \")\n",
    "            sum+=i\n",
    "else:\n",
    "    sum=0\n",
    "print(\"\\n\\nSum of all integer in the range 1000 and 2000 :\",sum)"
   ]
  },
  {
   "cell_type": "code",
   "execution_count": 71,
   "id": "a3ffe569",
   "metadata": {},
   "outputs": [
    {
     "name": "stdout",
     "output_type": "stream",
     "text": [
      "Enter name 1st Person: Griffin Leo\n",
      "Enter your date of birth in DD/MM/YYY:21/08/1999\n",
      "Enter name 2nd Person: Stingrey\n",
      "Enter your date of birth in DD/MM/YYY:03/10/2004\n",
      "\n",
      "Stingrey is younger\n"
     ]
    }
   ],
   "source": [
    "'''You are given the date of birth of two persons, not necessarily from the same family. your task is to find the \n",
    "younger of the two. if both of them share the same date of birth, then the younger of the two is assumed to be that \n",
    "person whose name comes first in alphabetical order. the input will have four lines. the first two lines correspond \n",
    "to the first person, while the last two lines correspond to the second person. for each person, the first line corresponds\n",
    "to the name and the second line corresponds to the date of birth in \"DD-MM-YYYY\" format. your output should be the name \n",
    "of the younger of the two.'''\n",
    "name1=input(\"Enter name 1st Person: \")\n",
    "d1,m1,y1=input(\"Enter your date of birth in DD/MM/YYY:\").split(\"/\")\n",
    "d1,m1,y1=int(d1),int(m1),int(y1)\n",
    "name2=input(\"Enter name 2nd Person: \")\n",
    "d2,m2,y2=input(\"Enter your date of birth in DD/MM/YYY:\").split(\"/\")\n",
    "d2,m2,y2=int(d2),int(m2),int(y2)\n",
    "\n",
    "if y1<y2:\n",
    "    print(f\"\\n{name2} is younger\")\n",
    "elif y1>y2:\n",
    "    print(f\"\\n{name1} is younger\")\n",
    "else:\n",
    "    #y1==y2\n",
    "    if m1>m2:\n",
    "        print(f\"\\n{name1} is younger \")\n",
    "    elif m1<m2:\n",
    "        print(f\"\\n{name2} is younger \")\n",
    "    else:\n",
    "        #m1==m2\n",
    "        if d1>d2:\n",
    "            print(f\"\\n{name1} is younger\")\n",
    "        elif d1<d2:\n",
    "            print(f\"\\n{name2} is younger\")\n",
    "        else:\n",
    "            if name1<name2:\n",
    "                print(f\"\\n{name1} is younger\")\n",
    "            elif name1>name2:\n",
    "                print(f\"\\n{name2} is younger \")\n",
    "            else:\n",
    "                print(\"\\nCan't determine \")"
   ]
  },
  {
   "cell_type": "code",
   "execution_count": 61,
   "id": "c5a1e68f",
   "metadata": {},
   "outputs": [
    {
     "name": "stdout",
     "output_type": "stream",
     "text": [
      "Enter number of rows: 4\n",
      "0 \n",
      "01 \n",
      "012 \n",
      "0123 \n",
      "01234 \n"
     ]
    }
   ],
   "source": [
    "'''print the following pattern\n",
    "0\n",
    "01\n",
    "012\n",
    "0123\n",
    "01234'''\n",
    "row = int(input(\"Enter number of rows: \"))\n",
    "for i in range(0,row+1):\n",
    "    for j in range(0,i+1):\n",
    "        print(j,end=\"\")\n",
    "    print(\" \") "
   ]
  },
  {
   "cell_type": "code",
   "execution_count": 58,
   "id": "786758a1",
   "metadata": {},
   "outputs": [
    {
     "name": "stdout",
     "output_type": "stream",
     "text": [
      "Enter number of rows: 5\n",
      "01234 \n",
      "0123 \n",
      "012 \n",
      "01 \n",
      "0 \n"
     ]
    }
   ],
   "source": [
    "'''print the following pattern\n",
    "01234\n",
    "0123\n",
    "012\n",
    "01\n",
    "0'''\n",
    "n = int(input(\"Enter number of rows: \"))\n",
    "for i in range(n,0,-1):    \n",
    "    for j in range(0,i):\n",
    "        print(j,end=\"\")\n",
    "    print(\" \")"
   ]
  },
  {
   "cell_type": "code",
   "execution_count": 75,
   "id": "5943b15d",
   "metadata": {},
   "outputs": [
    {
     "name": "stdout",
     "output_type": "stream",
     "text": [
      "Enter number of rows: 5\n",
      "1 2 3 4 5  \n",
      "1 2 3 4 5  \n",
      "1 2 3 4 5  \n",
      "1 2 3 4 5  \n",
      "1 2 3 4 5  \n"
     ]
    }
   ],
   "source": [
    "'''print the following pattern\n",
    "1 2 3 4 5 \n",
    "2 2 3 4 5 \n",
    "3 3 3 4 5 \n",
    "4 4 4 4 5 \n",
    "5 5 5 5 5\n",
    "'''\n",
    "row = int(input(\"Enter number of rows: \"))\n",
    "for i in range(1,row+1):\n",
    "    for i in range(1,row+1):\n",
    "        print(i,end=\" \")\n",
    "    print(\" \")   "
   ]
  },
  {
   "cell_type": "code",
   "execution_count": 14,
   "id": "16cdf607",
   "metadata": {},
   "outputs": [
    {
     "name": "stdout",
     "output_type": "stream",
     "text": [
      "1  \n",
      "2 4  \n",
      "3 6 9  \n",
      "4 8 12 16  \n",
      "5 10 15 20 25  \n"
     ]
    }
   ],
   "source": [
    "'''print the following pattern\n",
    "1  \n",
    "2  4  \n",
    "3  6  9  \n",
    "4  8  12  16  \n",
    "5  10  15  20  25 '''\n",
    "\n",
    "lines=5\n",
    "for i in range(1,lines+1):\n",
    "    for j in range(1,i+1):\n",
    "        print(i*j,end=\" \")\n",
    "    print(\" \") "
   ]
  },
  {
   "cell_type": "code",
   "execution_count": 104,
   "id": "4fcc83d9",
   "metadata": {},
   "outputs": [
    {
     "name": "stdout",
     "output_type": "stream",
     "text": [
      "G\n",
      "Gr\n",
      "Gri\n",
      "Grif\n",
      "Griff\n",
      "Griffi\n",
      "Griffin\n",
      "GriffinL\n",
      "GriffinLe\n",
      "GriffinLeo\n"
     ]
    }
   ],
   "source": [
    "#how to print a particular word in Pattern\n",
    "name=\"GriffinLeo\"\n",
    "for i in range(len(name)) :\n",
    "    print(name[0:i+1])"
   ]
  },
  {
   "cell_type": "code",
   "execution_count": 103,
   "id": "0bb673b8",
   "metadata": {},
   "outputs": [
    {
     "name": "stdout",
     "output_type": "stream",
     "text": [
      "Enter number of rows: 4\n",
      "1  \n",
      "2 3  \n",
      "4 5 6  \n",
      "7 8 9 10  \n"
     ]
    }
   ],
   "source": [
    "#Pyramid of upto n row\n",
    "'''\n",
    "1\n",
    "2 3\n",
    "4 5 6\n",
    "7 8 9 10\n",
    "'''\n",
    "row = int(input(\"Enter number of rows: \"))\n",
    "n=1\n",
    "for i in range(1,row+1):\n",
    "    for j in range(1,i+1):\n",
    "        print(n,end=\" \")\n",
    "        n+=1\n",
    "    print(\" \")   "
   ]
  },
  {
   "cell_type": "code",
   "execution_count": 59,
   "id": "42cc49dd",
   "metadata": {},
   "outputs": [
    {
     "name": "stdout",
     "output_type": "stream",
     "text": [
      "Enter number of rows: 5\n",
      "*  \n",
      "* *  \n",
      "* * *  \n",
      "* * * *  \n",
      "* * * * *  \n",
      "* * * *  \n",
      "* * *  \n",
      "* *  \n",
      "*  \n"
     ]
    }
   ],
   "source": [
    "'''Write a Python program to construct the following pattern, using a nested for loop.\n",
    "\n",
    "* \n",
    "* * \n",
    "* * * \n",
    "* * * * \n",
    "* * * * * \n",
    "* * * * \n",
    "* * * \n",
    "* * \n",
    "*'''\n",
    "n = int(input(\"Enter number of rows: \"))\n",
    "for i in range(1,n+1):\n",
    "    for j in range(1,i+1):\n",
    "        print(\"*\",end=\" \")\n",
    "    print(\" \")\n",
    "for i in range(n,1,-1):    \n",
    "    for j in range(1,i):\n",
    "        print(\"*\",end=\" \")\n",
    "    print(\" \")"
   ]
  }
 ],
 "metadata": {
  "kernelspec": {
   "display_name": "Python 3 (ipykernel)",
   "language": "python",
   "name": "python3"
  },
  "language_info": {
   "codemirror_mode": {
    "name": "ipython",
    "version": 3
   },
   "file_extension": ".py",
   "mimetype": "text/x-python",
   "name": "python",
   "nbconvert_exporter": "python",
   "pygments_lexer": "ipython3",
   "version": "3.9.7"
  }
 },
 "nbformat": 4,
 "nbformat_minor": 5
}
