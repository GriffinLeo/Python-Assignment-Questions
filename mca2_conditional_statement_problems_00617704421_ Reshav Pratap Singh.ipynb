{
 "cells": [
  {
   "cell_type": "code",
   "execution_count": 1,
   "id": "28f2c686",
   "metadata": {},
   "outputs": [
    {
     "name": "stdout",
     "output_type": "stream",
     "text": [
      "10\n"
     ]
    }
   ],
   "source": [
    "a,b,c=10,0,-1\n",
    "d= a or b and c\n",
    "print(d)"
   ]
  },
  {
   "cell_type": "code",
   "execution_count": 2,
   "id": "e2255fae",
   "metadata": {},
   "outputs": [
    {
     "name": "stdout",
     "output_type": "stream",
     "text": [
      "4 0 4 -1\n"
     ]
    }
   ],
   "source": [
    "i, j, k = 4, -1, 0\n",
    "w = i or j or k  \n",
    "x = i and j and k \n",
    "y = i or j and k  \n",
    "z = i and j or k  \n",
    "print(w, x, y, z) "
   ]
  },
  {
   "cell_type": "code",
   "execution_count": 3,
   "id": "2fc72ed2",
   "metadata": {},
   "outputs": [
    {
     "name": "stdout",
     "output_type": "stream",
     "text": [
      "enter any postive number7\n",
      "power of 2= 128\n"
     ]
    }
   ],
   "source": [
    "n=int(input(\"enter any postive number\")) \n",
    "print(\"power of 2=\",2<<(n-1))"
   ]
  },
  {
   "cell_type": "code",
   "execution_count": 7,
   "id": "8f319cdf",
   "metadata": {},
   "outputs": [
    {
     "name": "stdout",
     "output_type": "stream",
     "text": [
      "even\n"
     ]
    }
   ],
   "source": [
    "a=10\n",
    "if a%2==0:\n",
    "    print(\"even\")\n",
    "else:\n",
    "    print(\"odd\")\n",
    "    "
   ]
  },
  {
   "cell_type": "code",
   "execution_count": 21,
   "id": "a44b6536",
   "metadata": {},
   "outputs": [
    {
     "name": "stdout",
     "output_type": "stream",
     "text": [
      "500\n"
     ]
    }
   ],
   "source": [
    "num = 30\n",
    "k = 100 if num <= 10 else 500\n",
    "print(k)"
   ]
  },
  {
   "cell_type": "code",
   "execution_count": 22,
   "id": "9bf2eeaa",
   "metadata": {},
   "outputs": [
    {
     "name": "stdout",
     "output_type": "stream",
     "text": [
      "Hi\n"
     ]
    }
   ],
   "source": [
    "a = 0\n",
    "b = 60\n",
    "if a and b > 20:\n",
    "    print('Hello')\n",
    "else:\n",
    "    print('Hi')"
   ]
  },
  {
   "cell_type": "code",
   "execution_count": 23,
   "id": "74f43916",
   "metadata": {},
   "outputs": [
    {
     "name": "stdout",
     "output_type": "stream",
     "text": [
      "Hello\n"
     ]
    }
   ],
   "source": [
    "a = 10\n",
    "if a == 30 or 40 or 60 :\n",
    "    print('Hello')\n",
    "else :\n",
    "    print('Hi')"
   ]
  },
  {
   "cell_type": "code",
   "execution_count": 24,
   "id": "72005bf6",
   "metadata": {},
   "outputs": [
    {
     "name": "stdout",
     "output_type": "stream",
     "text": [
      "Hello\n"
     ]
    }
   ],
   "source": [
    "a = 10\n",
    "if any((a>30, a==10, a<50)) :\n",
    "    print('Hello')\n",
    "else :\n",
    "    print('Hi')"
   ]
  },
  {
   "cell_type": "code",
   "execution_count": 25,
   "id": "45dfd304",
   "metadata": {},
   "outputs": [
    {
     "name": "stdout",
     "output_type": "stream",
     "text": [
      "Hello\n"
     ]
    }
   ],
   "source": [
    "a = 40\n",
    "if a in (30, 40, 50) :\n",
    "    print('Hello')\n",
    "else :\n",
    "    print('Hi')"
   ]
  },
  {
   "cell_type": "code",
   "execution_count": 26,
   "id": "43ee53fe",
   "metadata": {},
   "outputs": [
    {
     "name": "stdout",
     "output_type": "stream",
     "text": [
      "true\n",
      "\n"
     ]
    }
   ],
   "source": [
    "x = 10 ; y = 15\n",
    "print(\"hey students\",end=\"\\r\")\n",
    "if x % 2 == y % 3:\n",
    "    print('true\\n')\n",
    "else:\n",
    "    print('false')"
   ]
  },
  {
   "cell_type": "code",
   "execution_count": 27,
   "id": "cf61db83",
   "metadata": {},
   "outputs": [
    {
     "name": "stdout",
     "output_type": "stream",
     "text": [
      "enter your age:22\n",
      "eligible\n",
      "Enter your name:Griffin leo\n"
     ]
    }
   ],
   "source": [
    "#concept of if else\n",
    "a=int(input(\"enter your age:\"))\n",
    "if a>=18:\n",
    "    print(\"eligible\")\n",
    "    n=input(\"Enter your name:\")\n",
    "else:\n",
    "        print(\"not eligible\")"
   ]
  },
  {
   "cell_type": "code",
   "execution_count": 28,
   "id": "84bfdfb2",
   "metadata": {},
   "outputs": [
    {
     "name": "stdout",
     "output_type": "stream",
     "text": [
      "Enter the Number:5 3 7\n",
      "7 is greatest no\n"
     ]
    }
   ],
   "source": [
    "#concept of if elif\n",
    "a,b,c=input(\"Enter the Number:\").split()\n",
    "a,b,c=int(a),int(b),int(c)\n",
    "if a!=b and a!=c:\n",
    "    if(a>b) and (a>c):\n",
    "        print(f\"{a} is greatest no\")\n",
    "    elif(b>=c):\n",
    "        print(f\"{b} is greatest no\")\n",
    "    else:\n",
    "        print(f\"{c} is greatest no\")\n",
    "else:\n",
    "    print(\"Number are equal\")"
   ]
  },
  {
   "cell_type": "code",
   "execution_count": 29,
   "id": "e52d7294",
   "metadata": {},
   "outputs": [
    {
     "name": "stdout",
     "output_type": "stream",
     "text": [
      "Enter three Number:6 8 4\n",
      " 8 is greatest \n"
     ]
    }
   ],
   "source": [
    "#concept of conditional operator\n",
    "a,b,c=input(\"Enter three Number:\").split()\n",
    "a,b,c=int(a),int(b),int(c)\n",
    "d=a if(a>b and a>c) else b if(b>c) else c\n",
    "print(f\" {d} is greatest \")"
   ]
  },
  {
   "cell_type": "code",
   "execution_count": 30,
   "id": "6b4896bd",
   "metadata": {},
   "outputs": [
    {
     "name": "stdout",
     "output_type": "stream",
     "text": [
      "Enter three number:8 5 3\n",
      "8\n"
     ]
    }
   ],
   "source": [
    "#concept of all()\n",
    "a,b,c=input(\"Enter three number:\").split()\n",
    "a,b,c=int(a),int(b),int(c)\n",
    "d=all((a!=b,a!=c))\n",
    "if d:\n",
    "    e=a if(a>b and a>c) else b if(b>c) else c\n",
    "    print(e)\n",
    "else:\n",
    "    print(\"Number are equal\")"
   ]
  },
  {
   "cell_type": "code",
   "execution_count": 31,
   "id": "1e18ad7e",
   "metadata": {},
   "outputs": [
    {
     "name": "stdout",
     "output_type": "stream",
     "text": [
      "Enter three number:7 4 9\n",
      "9\n"
     ]
    }
   ],
   "source": [
    "#concept of any()\n",
    "a,b,c=input(\"Enter three number:\").split()\n",
    "a,b,c=int(a),int(b),int(c)\n",
    "d=any((a!=b,a!=c))\n",
    "if d:\n",
    "    e=a if(a>b and a>c) else b if(b>c) else c\n",
    "    print(e)\n",
    "else:\n",
    "    print(\"Number are equal\")"
   ]
  },
  {
   "cell_type": "code",
   "execution_count": 32,
   "id": "d3b46592",
   "metadata": {},
   "outputs": [
    {
     "name": "stdout",
     "output_type": "stream",
     "text": [
      "Enter the number:5\n",
      "The Number is Odd\n"
     ]
    }
   ],
   "source": [
    "#find out number is odd or even\n",
    "a=eval(input(\"Enter the number:\"))\n",
    "if a%2==0:\n",
    "    print(\"The Number is Even\")\n",
    "else:\n",
    "    print(\"The Number is Odd\")"
   ]
  },
  {
   "cell_type": "code",
   "execution_count": 33,
   "id": "0e708cb7",
   "metadata": {},
   "outputs": [
    {
     "name": "stdout",
     "output_type": "stream",
     "text": [
      "Enter the nth number:5\n",
      "Multiply by 2: 32\n"
     ]
    }
   ],
   "source": [
    "#WAP to multiply by 2 upto nth sequence without using * operator\n",
    "n=eval(input(\"Enter the nth number:\"))\n",
    "print(\"Multiply by 2:\",2<<(n-1))"
   ]
  },
  {
   "cell_type": "code",
   "execution_count": 1,
   "id": "10281210",
   "metadata": {},
   "outputs": [
    {
     "name": "stdout",
     "output_type": "stream",
     "text": [
      "Enter the nth number:5\n",
      "The Divison By 2 is 3\n"
     ]
    }
   ],
   "source": [
    "#WAP to divide a particular number by 2 without using division operator\n",
    "n=eval(input(\"Enter the nth number:\"))\n",
    "result=0\n",
    "div=n+2\n",
    "while(div>2):\n",
    "    div=div-2\n",
    "    result=result+1\n",
    "print(\"The Divison By 2 is\",result)"
   ]
  },
  {
   "cell_type": "code",
   "execution_count": 35,
   "id": "bd7f6748",
   "metadata": {},
   "outputs": [
    {
     "name": "stdout",
     "output_type": "stream",
     "text": [
      "Enter three number:5 8 4\n",
      "8\n"
     ]
    }
   ],
   "source": [
    "#find out greatest number in three numbers without using logical operator\n",
    "a,b,c=input(\"Enter three number:\").split()\n",
    "a,b,c=int(a),int(b),int(c)\n",
    "if (a>b>c)*a:\n",
    "    print(a)\n",
    "elif(b>a>c)*b:\n",
    "    print(b)\n",
    "else:\n",
    "    print(c)"
   ]
  },
  {
   "cell_type": "code",
   "execution_count": 36,
   "id": "b7312464",
   "metadata": {},
   "outputs": [
    {
     "name": "stdout",
     "output_type": "stream",
     "text": [
      "Enter the Number:7 9 4\n",
      "9 is greatest no\n"
     ]
    }
   ],
   "source": [
    "#find out greatest number in three numbers using logical operator\n",
    "a,b,c=input(\"Enter the Number:\").split()\n",
    "a,b,c=int(a),int(b),int(c)\n",
    "if a!=b and a!=c:\n",
    "    if(a>b) and (a>c):\n",
    "        print(f\"{a} is greatest no\")\n",
    "    elif(b>=c):\n",
    "        print(f\"{b} is greatest no\")\n",
    "    else:\n",
    "        print(f\"{c} is greatest no\")\n",
    "else:\n",
    "    print(\"No are equal\")"
   ]
  },
  {
   "cell_type": "code",
   "execution_count": 37,
   "id": "1e4bf919",
   "metadata": {},
   "outputs": [
    {
     "name": "stdout",
     "output_type": "stream",
     "text": [
      "Enter three Number:9 4 7\n",
      " 9 is greatest \n"
     ]
    }
   ],
   "source": [
    "#find out greatest number in three numbers using conditional operator\n",
    "a,b,c=input(\"Enter three Number:\").split()\n",
    "a,b,c=int(a),int(b),int(c)\n",
    "d=a if(a>b and a>c) else b if(b>c) else c\n",
    "print(f\" {d} is greatest \")"
   ]
  },
  {
   "cell_type": "code",
   "execution_count": 38,
   "id": "c1514c60",
   "metadata": {},
   "outputs": [
    {
     "name": "stdout",
     "output_type": "stream",
     "text": [
      "Enter three number:9 5 7\n",
      "9 is greatest \n"
     ]
    }
   ],
   "source": [
    "#find out greatest number in three numbers using all()\n",
    "a,b,c=input(\"Enter three number:\").split()\n",
    "a,b,c=int(a),int(b),int(c)\n",
    "d=all((a!=b,a!=c))\n",
    "if d:\n",
    "    e=a if(a>b and a>c) else b if(b>c) else c\n",
    "    print(f\"{e} is greatest \")\n",
    "else:\n",
    "    print(\"Number are equal\")"
   ]
  },
  {
   "cell_type": "code",
   "execution_count": 39,
   "id": "bbecea17",
   "metadata": {},
   "outputs": [
    {
     "name": "stdout",
     "output_type": "stream",
     "text": [
      "Enter three number:-1\n",
      "Negative\n"
     ]
    }
   ],
   "source": [
    "#Accept a non-zero integer as input. Print positive if it is greater than zero and negative if it is less than zero.\n",
    "a=eval(input(\"Enter three number:\"))\n",
    "if a>0:\n",
    "    print(\"Positive\")\n",
    "else:\n",
    "    print(\"Negative\")"
   ]
  },
  {
   "cell_type": "code",
   "execution_count": 40,
   "id": "25e0d6c9",
   "metadata": {},
   "outputs": [
    {
     "name": "stdout",
     "output_type": "stream",
     "text": [
      "Enter the quantity purchased:5000\n",
      "Enter the price per item:600\n",
      "Total Expenses is:  2700000.0\n"
     ]
    }
   ],
   "source": [
    "\"\"\" a discount of 10% is offered if the quantity purchased is more than 1000. \n",
    "If quantity and price per item are input through the keyboard, write a program to \n",
    "calculate the total expenses\"\"\"\n",
    "\n",
    "quantity=eval(input(\"Enter the quantity purchased:\"))\n",
    "price=eval(input(\"Enter the price per item:\"))\n",
    "if(quantity>1000):\n",
    "    totalExpenses = quantity * price\n",
    "    totalExpenses = totalExpenses - (totalExpenses * 0.1)\n",
    "else:\n",
    "    totalExpenses = quantity * price\n",
    "print(\"Total Expenses is: \",totalExpenses)"
   ]
  },
  {
   "cell_type": "code",
   "execution_count": 41,
   "id": "ff3f2b94",
   "metadata": {
    "scrolled": true
   },
   "outputs": [
    {
     "name": "stdout",
     "output_type": "stream",
     "text": [
      "Please Entered Basic Salary Rs.:3650\n",
      "Basic Salary Rs. 3650\n",
      "HRA Rs. 500\n",
      "DA Rs. 3577.0\n",
      "Gross salary Rs. 7727.0\n"
     ]
    }
   ],
   "source": [
    "\"\"\"In a company an employee is paid as under:\n",
    "If his basic salary is less than Rs. 1500, then HRA = 10% of basic salary\n",
    "and DA = 90% of basic salary. If his salary is either equal to or above Rs.\n",
    "1500, then HRA = Rs. 500 and DA = 98% of basic salary. If the employee's\n",
    "salary is input through the keyboard write a program to find his gross\n",
    "salary.\"\"\"\n",
    "BS=eval(input(\"Please Entered Basic Salary Rs.:\"))\n",
    "if (BS<1500):\n",
    "    HRA = BS * 0.10\n",
    "    DA = BS * 0.90\n",
    "else:\n",
    "    HRA = 500\n",
    "    DA = BS * 0.98\n",
    "\n",
    "GS = BS + HRA + DA\n",
    "print(\"Basic Salary Rs.\",BS)\n",
    "print(\"HRA Rs.\",HRA)\n",
    "print(\"DA Rs.\",DA)\n",
    "print(\"Gross salary Rs.\",GS)"
   ]
  },
  {
   "cell_type": "code",
   "execution_count": 42,
   "id": "4046a0f2",
   "metadata": {},
   "outputs": [
    {
     "name": "stdout",
     "output_type": "stream",
     "text": [
      "Enter the Percentage Marks:68\n",
      "First Division\n"
     ]
    }
   ],
   "source": [
    "\"\"\"Percentage marks obtained by a student are input through the keyboard. \n",
    "The student gets a division as per the following rules:\n",
    "Percentage above or equal to 60 - First division\n",
    "Percentage between 50 and 59 - Second division\n",
    "Percentage between 40 and 49 - Third division\n",
    "Percentage less than 40 - Fail\n",
    "Write a program to calculate the division obtained by the student.\"\"\"\n",
    "percent=eval(input(\"Enter the Percentage Marks:\"))\n",
    "if(percent>=60):\n",
    "    print(\"First Division\")\n",
    "elif(percent>=50):\n",
    "    print(\"Second Division\")\n",
    "elif(percent>40):\n",
    "    print(\"Third Division\")\n",
    "else:\n",
    "    print(\"fail\")"
   ]
  },
  {
   "cell_type": "code",
   "execution_count": 43,
   "id": "4aea4031",
   "metadata": {},
   "outputs": [
    {
     "name": "stdout",
     "output_type": "stream",
     "text": [
      "Enter age:40\n",
      "Enter sex:M\n",
      "Enter Marital Status:Unmarried\n",
      "Driver should be insured\n"
     ]
    }
   ],
   "source": [
    "\"\"\"A company insures its drivers in the following cases:\n",
    "If the driver is married.\n",
    "If the driver is unmarried, male & above 30 years of age.\n",
    "If the driver is unmarried, female & above 25 years of age\n",
    "In all other cases, the driver is not insured. If the marital status, sex and\n",
    "age of the driver are the inputs, write a program to determine whether\n",
    "the driver should be insured or not.\"\"\"\n",
    "age=eval(input(\"Enter age:\"))\n",
    "sex=input(\"Enter sex:\")\n",
    "ms=input(\"Enter Marital Status:\")\n",
    "\n",
    "if(ms=='Married'):\n",
    "    print(\"Driver should be insured\")\n",
    "else:\n",
    "    if(sex=='M'):\n",
    "        if(age>30):\n",
    "            print(\"Driver should be insured\")\n",
    "        else:\n",
    "            print(\"Driver should not be insured\")\n",
    "    else:\n",
    "        if(age > 25 ):\n",
    "            print(\"Driver should be insured\")\n",
    "        else:\n",
    "            print(\"Driver should not be insured\")"
   ]
  },
  {
   "cell_type": "code",
   "execution_count": 3,
   "id": "a9be3999",
   "metadata": {},
   "outputs": [
    {
     "name": "stdout",
     "output_type": "stream",
     "text": [
      "Enter True or False: True False True False \n",
      "All Variables are True\n"
     ]
    }
   ],
   "source": [
    "#Suppose there are four flag variables w, x, y, z. \n",
    "#Write a program to check in multiple ways whether one of them is true.\n",
    "w,x,y,z=input(\"Enter True or False: \").split()\n",
    "w,x,y,z=bool(w),bool(x),bool(y),bool(z)\n",
    "if(w==True and x==True and y==True and z==True):\n",
    "    print(\"All Variables are True\")\n",
    "elif(w==True or x==True or y==True or z==True):\n",
    "    print(\"All Variables are True\")\n",
    "elif any((w==True,x==True,y==True,z==True)):\n",
    "    print(\"All Variables are True\")\n",
    "else:\n",
    "    print(\"All Variables are False\")"
   ]
  },
  {
   "cell_type": "code",
   "execution_count": 44,
   "id": "9219e623",
   "metadata": {},
   "outputs": [
    {
     "name": "stdout",
     "output_type": "stream",
     "text": [
      "Enter the number:-6\n",
      "n*n*n\n"
     ]
    }
   ],
   "source": [
    "#Given a number n we wish to do the following:\n",
    "#If n is positive - print n * n, set a flag to true\n",
    "#If n is negative - print n * n * n, set a flag to true\n",
    "#if n is 0 - do nothing\n",
    "n=eval(input(\"Enter the number:\"))\n",
    "if(n>0):\n",
    "    print(\"n*n\")\n",
    "    f=1\n",
    "elif(n<0):\n",
    "    print(\"n*n*n\")\n",
    "    f=1\n",
    "else:\n",
    "    print(\" \")\n",
    "    f=0"
   ]
  },
  {
   "cell_type": "code",
   "execution_count": 45,
   "id": "6faf8ce2",
   "metadata": {},
   "outputs": [
    {
     "name": "stdout",
     "output_type": "stream",
     "text": [
      "Enter the Number:6 2 9\n",
      "9 is greatest no\n"
     ]
    }
   ],
   "source": [
    "#Write a python program to find largest of three numbers \n",
    "a,b,c=input(\"Enter the Number:\").split()\n",
    "a,b,c=int(a),int(b),int(c)\n",
    "if a!=b and a!=c:\n",
    "    if(a>b) and (a>c):\n",
    "        print(f\"{a} is greatest no\")\n",
    "    elif(b>=c):\n",
    "        print(f\"{b} is greatest no\")\n",
    "    else:\n",
    "        print(f\"{c} is greatest no\")\n",
    "else:\n",
    "    print(\"No are equal\")"
   ]
  },
  {
   "cell_type": "code",
   "execution_count": 46,
   "id": "02a63c97",
   "metadata": {},
   "outputs": [
    {
     "name": "stdout",
     "output_type": "stream",
     "text": [
      "Enter the number143\n",
      "Its is a sandwich Number\n"
     ]
    }
   ],
   "source": [
    "#A three digit number is called a sandwich number if the sum of its first and last digits is equal to its middle digit. Accept a three digit number as input and print sandwich if the number is a sandwich number.\n",
    "#Print plain if the number is not a sandwich number. 143 is a sandwich number and 123 is a plain\n",
    "a,b,c=input(\"Enter the number\")\n",
    "a,b,c=int(a),int(b),int(c)\n",
    "if(a+c==b):\n",
    "    print(\"Its is a sandwich Number\")\n",
    "else:\n",
    "    print(\"Its a plain number\")\n"
   ]
  }
 ],
 "metadata": {
  "kernelspec": {
   "display_name": "Python 3 (ipykernel)",
   "language": "python",
   "name": "python3"
  },
  "language_info": {
   "codemirror_mode": {
    "name": "ipython",
    "version": 3
   },
   "file_extension": ".py",
   "mimetype": "text/x-python",
   "name": "python",
   "nbconvert_exporter": "python",
   "pygments_lexer": "ipython3",
   "version": "3.9.7"
  }
 },
 "nbformat": 4,
 "nbformat_minor": 5
}
