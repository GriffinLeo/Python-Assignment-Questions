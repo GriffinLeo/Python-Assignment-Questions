{
 "cells": [
  {
   "cell_type": "code",
   "execution_count": 1,
   "id": "4d8e1c6e",
   "metadata": {},
   "outputs": [
    {
     "name": "stdout",
     "output_type": "stream",
     "text": [
      "Adding 5 and 10 in list [5, 10]\n",
      "Popped one element from list [5]\n",
      "\n",
      "\n",
      "Adding 5 and 10 in set {10, 5}\n",
      "Removing 5 from set {10}\n",
      "\n",
      "\n",
      "Tuple (5,)\n",
      "\n",
      "\n",
      "Dictionary {5: 'Five', 10: 'Ten'}\n",
      "Dictionary {5: 'Five'}\n"
     ]
    }
   ],
   "source": [
    "#Implement different methods of various data-structures like lists, tuples, sets, and dictionary.\n",
    "\n",
    "l = []\n",
    " \n",
    "# Adding Element into list\n",
    "l.append(5)\n",
    "l.append(10)\n",
    "print(\"Adding 5 and 10 in list\", l)\n",
    "\n",
    "# Popping Elements from list\n",
    "l.pop()\n",
    "print(\"Popped one element from list\", l)\n",
    "print(\"\\n\") \n",
    "\n",
    "# Set\n",
    "s = set()\n",
    " \n",
    "# Adding element into set\n",
    "s.add(5)\n",
    "s.add(10)\n",
    "print(\"Adding 5 and 10 in set\", s)\n",
    " \n",
    "# Removing element from set\n",
    "s.remove(5)\n",
    "print(\"Removing 5 from set\", s)\n",
    "print(\"\\n\")\n",
    " \n",
    "# Tuple\n",
    "t = tuple(l)\n",
    " \n",
    "# Tuples are immutable\n",
    "print(\"Tuple\", t)\n",
    "print(\"\\n\") \n",
    "\n",
    "# Dictionary\n",
    "d = {}\n",
    " \n",
    "# Adding the key value pair\n",
    "d[5] = \"Five\"\n",
    "d[10] = \"Ten\"\n",
    "print(\"Dictionary\", d)\n",
    " \n",
    "# Removing key-value pair\n",
    "del d[10]\n",
    "print(\"Dictionary\", d)"
   ]
  },
  {
   "cell_type": "code",
   "execution_count": 2,
   "id": "764d7784",
   "metadata": {},
   "outputs": [
    {
     "name": "stdout",
     "output_type": "stream",
     "text": [
      "Enter the string:Griffinleo is here\n",
      "{'G': 1, 'r': 2, 'i': 3, 'f': 2, 'n': 1, 'l': 1, 'e': 3, 'o': 1, ' ': 2, 's': 1, 'h': 1}\n"
     ]
    }
   ],
   "source": [
    "#Program to count the occurrence of each character entered by the user and store into the dictionary\n",
    "d1={}\n",
    "a=input(\"Enter the string:\")\n",
    "for i in a:    \n",
    "    if i in d1.keys():\n",
    "        d1[i]+=1\n",
    "    else:\n",
    "        d1[i]=1\n",
    "print(d1)"
   ]
  },
  {
   "cell_type": "code",
   "execution_count": 3,
   "id": "90c21525",
   "metadata": {},
   "outputs": [
    {
     "name": "stdout",
     "output_type": "stream",
     "text": [
      "Enter number of students :2\n",
      "Enter names of student :leo\n",
      "Enter marks :89\n",
      "Enter marks :78\n",
      "Enter marks :90\n",
      "Enter marks :79\n",
      "Enter names of student :Griffin\n",
      "Enter marks :90\n",
      "Enter marks :87\n",
      "Enter marks :96\n",
      "Enter marks :97\n",
      "Dictionary of student created :\n",
      "{'leo': [89.0, 78.0, 90.0, 79.0], 'Griffin': [90.0, 87.0, 96.0, 97.0]}\n"
     ]
    },
    {
     "ename": "TypeError",
     "evalue": "unsupported operand type(s) for +: 'int' and 'list'",
     "output_type": "error",
     "traceback": [
      "\u001b[1;31m---------------------------------------------------------------------------\u001b[0m",
      "\u001b[1;31mTypeError\u001b[0m                                 Traceback (most recent call last)",
      "Input \u001b[1;32mIn [3]\u001b[0m, in \u001b[0;36m<cell line: 19>\u001b[1;34m()\u001b[0m\n\u001b[0;32m     18\u001b[0m values\u001b[38;5;241m=\u001b[39mstudents\u001b[38;5;241m.\u001b[39mvalues()\n\u001b[0;32m     19\u001b[0m \u001b[38;5;28;01mfor\u001b[39;00m j \u001b[38;5;129;01min\u001b[39;00m \u001b[38;5;28mrange\u001b[39m(\u001b[38;5;241m4\u001b[39m):\n\u001b[1;32m---> 20\u001b[0m     totalmarks\u001b[38;5;241m=\u001b[39m\u001b[38;5;28;43msum\u001b[39;49m\u001b[43m(\u001b[49m\u001b[43mvalues\u001b[49m\u001b[43m)\u001b[49m\n\u001b[0;32m     21\u001b[0m     stud[sname]\u001b[38;5;241m=\u001b[39mtotalmarks\n\u001b[0;32m     22\u001b[0m \u001b[38;5;28mprint\u001b[39m(stud)\n",
      "\u001b[1;31mTypeError\u001b[0m: unsupported operand type(s) for +: 'int' and 'list'"
     ]
    }
   ],
   "source": [
    "#Program for dictionary of names of students and a list of their marks in 4 subjects. \n",
    "#create another dictionary from this dictionary that has name of the students and their total marks.\n",
    "#find out the topper and his/her marks\n",
    "\n",
    "students = dict()\n",
    "n = int(input(\"Enter number of students :\"))\n",
    "for i in range(n):\n",
    "        sname = input(\"Enter names of student :\")\n",
    "        marks= []\n",
    "        for j in range(4):\n",
    "           mark = float(input(\"Enter marks :\"))\n",
    "           marks.append(mark)\n",
    "        students[sname] = marks\n",
    "print(\"Dictionary of student created :\")\n",
    "print(students)\n",
    "\n",
    "stud=dict( )\n",
    "values=students.values()\n",
    "for j in range(4):\n",
    "    totalmarks=sum(values)\n",
    "    stud[sname]=totalmarks\n",
    "print(stud)"
   ]
  },
  {
   "cell_type": "code",
   "execution_count": 4,
   "id": "a59791a3",
   "metadata": {},
   "outputs": [
    {
     "name": "stdout",
     "output_type": "stream",
     "text": [
      "Enter the string 1:silent\n",
      "Enter the string 2:listen\n",
      "Its Anagram\n"
     ]
    }
   ],
   "source": [
    "#Write a function that checks whether two words are anagrams. Two words are anagrams if they contain the same letters.\n",
    "#For example, silent and listen are anagrams. \n",
    "#Hint: Obtain two lists for the two strings. sort the lists and check if two lists are identical. \n",
    "#Write a test program that prompts the user to enter two strings and, if they are anagrams, displays is an anagram; otherwise it displays is not an anagram.\n",
    "\n",
    "def Anagram(s1, s2):\n",
    "    if sorted(s1) == sorted(s2):\n",
    "        print(\"Its Anagram\")\n",
    "    else:\n",
    "        print(\"Its not\")\n",
    "if __name__ == '__main__':\n",
    "    s1=input(\"Enter the string 1:\")\n",
    "    s2=input(\"Enter the string 2:\")\n",
    "    Anagram(s1,s2)\n"
   ]
  },
  {
   "cell_type": "code",
   "execution_count": 5,
   "id": "6f77b586",
   "metadata": {},
   "outputs": [
    {
     "name": "stdout",
     "output_type": "stream",
     "text": [
      "Enter a string of brackets:[()]\n",
      "Given string is balanced : True\n"
     ]
    }
   ],
   "source": [
    "#Write a program to determine whether a given string has balanced parenthesis or not.\n",
    "def isbal(s1):\n",
    "    while(len(s1)!=0):\n",
    "        s1 = s1.replace('()','') \n",
    "        s1 = s1.replace('[]','')\n",
    "        s1 = s1.replace('{}','')\n",
    "    if(len(s1)== 0):\n",
    "        return True\n",
    "    else:\n",
    "        return False\n",
    "s1=input(\"Enter a string of brackets:\") \n",
    "print(\"Given string is balanced :\",isbal(s1))"
   ]
  },
  {
   "cell_type": "code",
   "execution_count": null,
   "id": "303751a2",
   "metadata": {},
   "outputs": [],
   "source": [
    "#Accept a positive integer as input and print the digits present in it from left to right.\n",
    "#Each digit should be printed as a lower case word on a separate line.\n",
    "#How would you use dictionaries to solve this problem?\n",
    "single_digits = [\"zero\", \"one\", \"two\", \"three\",\n",
    "                     \"four\", \"five\", \"six\", \"seven\",\n",
    "                     \"eight\", \"nine\"]\n",
    "two_digits = [\"\", \"ten\", \"eleven\", \"twelve\",\n",
    "                  \"thirteen\", \"fourteen\", \"fifteen\",\n",
    "                  \"sixteen\", \"seventeen\", \"eighteen\",\n",
    "                  \"nineteen\"]\n",
    "tens_multiple = [\"\", \"\", \"twenty\", \"thirty\", \"forty\",\n",
    "                     \"fifty\", \"sixty\", \"seventy\", \"eighty\",\n",
    "                     \"ninety\"]\n",
    "tens_power = [\"hundred\", \"thousand\"]\n",
    "\n",
    "num_digits=[0,1,2,3,4,5,6,7,8,9]\n",
    "num1_digits=[0,10,20,30,40,50,60,70,80,90]\n",
    "d1=zip(num_digits,single_digits)\n",
    "#d1=zip(num1_digits,two_digits)\n",
    "d1=dict(d1)\n",
    "print(d1)"
   ]
  },
  {
   "cell_type": "code",
   "execution_count": 6,
   "id": "cd429b01",
   "metadata": {},
   "outputs": [
    {
     "name": "stdout",
     "output_type": "stream",
     "text": [
      "Python#is#a#high-level,#interpreted,#general-purpose#programming#language.#Its#design#philosophy#emphasizes#code#readability#with#the#use#of#significant#indentation.Python#is#dynamically-typed#and#garbage-collected.#It#supports#multiple#programming#paradigms,#including#structured#(particularly#procedural),#object-oriented#and#functional#programming.#It#is#often#described#as#a#\"batteries#included\"#language#due#to#its#comprehensive#standard#library.Guido#van#Rossum#began#working#on#Python#in#the#late#1980s#as#a#successor#to#the#ABC#programming#language#and#first#released#it#in#1991#as#Python#0.9.0.#Python#2.0#was#released#in#2000#and#introduced#new#features#such#as#list#comprehensions,#cycle-detecting#garbage#collection,#reference#counting,#and#Unicode#support.#Python#3.0,#released#in#2008,#was#a#major#revision#that#is#not#completely#backward-compatible#with#earlier#versions.#Python#2#was#discontinued#with#version#2.7.18#in#2020.Python#consistently#ranks#as#one#of#the#most#popular#programming#languages.#\n"
     ]
    }
   ],
   "source": [
    "#Read a text file line by line and display each word separated by a #.\n",
    "file=open(\"C:\\\\Users\\\\resha\\\\python\\\\PythonIntro.txt\",\"r\")\n",
    "lines=file.readlines()\n",
    "for i in lines:\n",
    "    words=i.split()\n",
    "    for j in words:\n",
    "        print(j+\"#\",end=\"\")\n",
    "    print(\"\")"
   ]
  },
  {
   "cell_type": "code",
   "execution_count": 7,
   "id": "a1a7c086",
   "metadata": {},
   "outputs": [
    {
     "name": "stdout",
     "output_type": "stream",
     "text": [
      "Total number of vowel: 298\n",
      "Total number of consonent: 718\n",
      "Total number of uppercase letter: 17\n",
      "Total number of lowercase letter: 795\n"
     ]
    }
   ],
   "source": [
    "#Read a text file and display the number of vowels/consonants/uppercase/lowercase characters in the file.\n",
    "file=open(\"C:\\\\Users\\\\resha\\\\python\\\\PythonIntro.txt\",\"r\")\n",
    "lines=file.read()\n",
    "vowel = consonent = uppercase = lowercase= 0\n",
    "for i in lines:\n",
    "    if(i == 'a' or i == 'e' or i == 'i' or i == 'o' or i == 'u'or i == 'A' or i == 'E' or i == 'I' or i == 'O' or i == 'U'):\n",
    "         vowel = vowel +1\n",
    "    else:\n",
    "         consonent = consonent + 1\n",
    "    if i.isupper() :\n",
    "        uppercase = uppercase + 1\n",
    "        \n",
    "    if i.islower():\n",
    "        lowercase = lowercase + 1\n",
    "        \n",
    "print(\"Total number of vowel:\",vowel)\n",
    "print(\"Total number of consonent:\",consonent)\n",
    "print(\"Total number of uppercase letter:\",uppercase)\n",
    "print(\"Total number of lowercase letter:\",lowercase)"
   ]
  },
  {
   "cell_type": "code",
   "execution_count": 8,
   "id": "46026536",
   "metadata": {},
   "outputs": [],
   "source": [
    "#Remove all the lines that contain the character 'a' in a file and write it to another file.\n",
    "inputfile=open(\"C:\\\\Users\\\\resha\\\\python\\\\PythonIntro.txt\",\"r\")\n",
    "outputfile=open(\"C:\\\\Users\\\\resha\\\\python\\\\outputfile.txt\",\"w\")\n",
    "lines=inputfile.readlines()\n",
    "for i in lines:\n",
    "    if 'a' not in i:\n",
    "        outputfile.write(i)\n",
    "outputfile.close()\n",
    "inputfile.close()"
   ]
  },
  {
   "cell_type": "code",
   "execution_count": 9,
   "id": "e5cb18fa",
   "metadata": {},
   "outputs": [
    {
     "name": "stdout",
     "output_type": "stream",
     "text": [
      "Enter the Text that you want to write:Griffinleo is here\n"
     ]
    }
   ],
   "source": [
    "#Write a program to create a text file “intro.txt” in python and ask the user to write a single line text by user input.\n",
    "file=open(\"C:\\\\Users\\\\resha\\\\python\\\\intro.txt\",\"w\")\n",
    "s1=input(\"Enter the Text that you want to write:\")\n",
    "file.write(s1)\n",
    "file.close()"
   ]
  },
  {
   "cell_type": "code",
   "execution_count": 10,
   "id": "0f35c3af",
   "metadata": {},
   "outputs": [
    {
     "name": "stdout",
     "output_type": "stream",
     "text": [
      "Enter the text 1 line:Python is a high-level, interpreted, general-purpose programming language. \n",
      "Enter the text 2 line:It supports multiple programming paradigms, including structured (particularly procedural), object-oriented and functional programming.\n",
      "Enter the text 3 line:Python 2.0 was released in 2000\n"
     ]
    }
   ],
   "source": [
    "#Write a program to create a text file “MyFile.txt” in python and ask the user to write separate 3 lines with three input statements from the user.\n",
    "f = open(\"C:\\\\Users\\\\resha\\\\python\\\\MyFile.txt\",\"w\")\n",
    "line1=input(\"Enter the text 1 line:\")\n",
    "line2=input(\"Enter the text 2 line:\")\n",
    "line3=input(\"Enter the text 3 line:\")\n",
    "new_line=\"\\n\"\n",
    "    \n",
    "f.write(line1)\n",
    "f.write(new_line)\n",
    "f.write(line2)\n",
    "f.write(new_line)\n",
    "f.write(line3)\n",
    "f.write(new_line)\n",
    "f.close()"
   ]
  },
  {
   "cell_type": "code",
   "execution_count": 11,
   "id": "dfc68ca3",
   "metadata": {},
   "outputs": [],
   "source": [
    "#Write a program to read the contents of both the files created in the above programs and merge the contents into “merge.txt”. Avoid using the close() function to close the files.\n",
    "with open(\"C:\\\\Users\\\\resha\\\\python\\\\MyFile.txt\",\"r\") as f1:\n",
    "    data=f1.read()\n",
    "with open(\"C:\\\\Users\\\\resha\\\\python\\\\intro.txt\",\"r\") as f2:\n",
    "    data1=f2.read()\n",
    "with open(\"C:\\\\Users\\\\resha\\\\python\\\\merge.txt\",\"w\") as f3:\n",
    "    f3.write(data)\n",
    "    f3.write(data1)"
   ]
  },
  {
   "cell_type": "code",
   "execution_count": 12,
   "id": "1eed33f0",
   "metadata": {},
   "outputs": [
    {
     "name": "stdout",
     "output_type": "stream",
     "text": [
      "Total Number of Upper Case letters are: 4\n",
      "Total Number of Lower Case letters are: 210\n",
      "Total Number of  digits are: 6\n"
     ]
    }
   ],
   "source": [
    "#Write a program to count the total number of uppercase, lower case, and digits used in the text file “merge.txt”.\n",
    "with open(\"C:\\\\Users\\\\resha\\\\python\\\\merge.txt\",\"r\") as f1:\n",
    "    data=f1.read()\n",
    "    ucase=lcase=digits=0\n",
    "    for i in data:\n",
    "        if i.islower():\n",
    "            lcase+=1\n",
    "        if i.isupper():\n",
    "            ucase+=1\n",
    "        if i.isdigit():\n",
    "            digits+=1\n",
    "print(\"Total Number of Upper Case letters are:\",ucase)\n",
    "print(\"Total Number of Lower Case letters are:\",lcase)\n",
    "print(\"Total Number of  digits are:\",digits)"
   ]
  },
  {
   "cell_type": "code",
   "execution_count": 13,
   "id": "88c5cfe5",
   "metadata": {},
   "outputs": [
    {
     "name": "stdout",
     "output_type": "stream",
     "text": [
      "Total Number of lines are: 4\n",
      "Total Number of lines strating with A are: 0\n",
      "Total Number of lines strating with B are: 0\n",
      "Total Number of lines strating with C are: 0\n"
     ]
    }
   ],
   "source": [
    "#Write a program to count a total number of lines and count the total number of lines starting with ‘A’, ‘B’, and ‘C’. (Consider the merge.txt file)\n",
    "with open(\"C:\\\\Users\\\\resha\\\\python\\\\merge.txt\",\"r\") as f1:\n",
    "    data=f1.readlines()\n",
    "    lines=0\n",
    "    A=B=C=0\n",
    "    for i in data:\n",
    "        lines+=1\n",
    "        if i[0]=='A':\n",
    "            A+=1\n",
    "        if i[0]=='B':\n",
    "            B+=1\n",
    "        if i[0]=='C':\n",
    "            C+=1\n",
    "    print(\"Total Number of lines are:\",lines)\n",
    "    print(\"Total Number of lines strating with A are:\",A)\n",
    "    print(\"Total Number of lines strating with B are:\",B)\n",
    "    print(\"Total Number of lines strating with C are:\",C)"
   ]
  },
  {
   "cell_type": "code",
   "execution_count": 15,
   "id": "1104b34a",
   "metadata": {},
   "outputs": [
    {
     "name": "stdout",
     "output_type": "stream",
     "text": [
      "Enter the words to search:Python\n",
      "Python found  2  times from the file\n"
     ]
    }
   ],
   "source": [
    "#Write a program to find the total occurrences of a specific words from a text file:\n",
    "count=0\n",
    "word_search = input(\"Enter the words to search:\")\n",
    "with open(\"C:\\\\Users\\\\resha\\\\python\\\\merge.txt\",\"r\") as f1:\n",
    "    for i in f1:\n",
    "        words=i.split()\n",
    "        for j in words:\n",
    "            if (j == word_search):\n",
    "                count+=1\n",
    "print(word_search,\"found \",count, \" times from the file\")"
   ]
  },
  {
   "cell_type": "code",
   "execution_count": 16,
   "id": "b6e459d9",
   "metadata": {},
   "outputs": [],
   "source": [
    "#Write a program to replace all spaces from text FILE WITH A GIVEN CHARACTER\n",
    "count=0\n",
    "with open(\"C:\\\\Users\\\\resha\\\\python\\\\merge.txt\",\"r\") as f1:\n",
    "    data=f1.read()\n",
    "    data=data.replace(' ','*')\n",
    "    with open(\"C:\\\\Users\\\\resha\\\\python\\\\merge.txt\",\"w\") as f1:\n",
    "        f1.write(data)"
   ]
  },
  {
   "cell_type": "code",
   "execution_count": 17,
   "id": "7b31d275",
   "metadata": {},
   "outputs": [
    {
     "name": "stdout",
     "output_type": "stream",
     "text": [
      "0\n",
      "on*is\n",
      "10\n",
      "7\n",
      "is*a*high-\n"
     ]
    }
   ],
   "source": [
    "#Write a program to know the cursor position and print the text according to specifications given below:\n",
    "#● Print the initial position\n",
    "#● Move the cursor to 4th position\n",
    "#● Display next 5 characters\n",
    "#● Move the cursor to the next 10 characters\n",
    "#● Print the current cursor position\n",
    "#● Print next 10 characters from the current cursor position\n",
    "\n",
    "f = open(\"C:\\\\Users\\\\resha\\\\python\\\\merge.txt\",\"r\")\n",
    "print(f.tell())\n",
    "f.seek(4,0)\n",
    "print(f.read(5))\n",
    "f.seek(10,0)\n",
    "print(f.tell())\n",
    "print(f.seek(7,0))\n",
    "print(f.read(10))"
   ]
  },
  {
   "cell_type": "code",
   "execution_count": 18,
   "id": "5503d66b",
   "metadata": {},
   "outputs": [
    {
     "name": "stdout",
     "output_type": "stream",
     "text": [
      "Enter the No. of Students:3\n",
      "Enter the Details of the Students: 1\n",
      "Enter Roll Number:8\n",
      "Enter the name:Griffin\n",
      "Enter the Details of the Students: 2\n",
      "Enter Roll Number:9\n",
      "Enter the name:Leo\n",
      "Enter the Details of the Students: 3\n",
      "Enter Roll Number:7\n",
      "Enter the name:reshav\n",
      "Enter the roll no to search:9\n",
      "The rollno = 9  record found\n",
      "{'roll': 9, 'name': 'leo'}\n"
     ]
    }
   ],
   "source": [
    "#Create a binary file with name and roll number. Search for a given roll number and display the name, if not found display appropriate message.\n",
    "import pickle\n",
    "dict={}\n",
    "file=open(\"C:\\\\Users\\\\resha\\\\python\\\\stud.txt\",\"ab\")\n",
    "no=int(input(\"Enter the No. of Students:\"))\n",
    "for i in range(no):\n",
    "    print(\"Enter the Details of the Students:\",i+1)\n",
    "    dict[\"roll\"]=int(input(\"Enter Roll Number:\"))\n",
    "    dict[\"name\"]=input(\"Enter the name:\")\n",
    "    pickle.dump(dict,file)\n",
    "file.close() \n",
    "\n",
    "file=open(\"C:\\\\Users\\\\resha\\\\python\\\\stud.txt\",\"rb\")\n",
    "r=int(input(\"Enter the roll no to search:\"))\n",
    "found=0\n",
    "try:\n",
    "    while True:\n",
    "        data=pickle.load(file)\n",
    "        if data[\"roll\"]==r:\n",
    "            print(\"The rollno =\",r,\" record found\")\n",
    "            print(data)\n",
    "            found=1\n",
    "            break\n",
    "except EOFError:\n",
    "    pass\n",
    "if found==0:\n",
    "    print(\"The rollno=\",r,\"record is not found\")\n",
    "file.close()"
   ]
  },
  {
   "cell_type": "code",
   "execution_count": 19,
   "id": "ecde2c2c",
   "metadata": {},
   "outputs": [
    {
     "name": "stdout",
     "output_type": "stream",
     "text": [
      "Enter the Roll Number: 3\n",
      "Enter the updated marks: 89\n",
      "Record updated successfully\n"
     ]
    }
   ],
   "source": [
    "#Create a binary file with roll number, name and marks. Input a roll number and update the marks.\n",
    "\n",
    "import pickle\n",
    "#creating the file and writing the data\n",
    "f=open(\"C:\\\\Users\\\\resha\\\\python\\\\stud_u.txt\", \"wb\")\n",
    "#list index 0 = roll number\n",
    "#list index 1 = name\n",
    "#list index 2 = marks\n",
    "pickle.dump([1, \"Wakil\", 90], f)\n",
    "pickle.dump([2, \"Tanish\", 80], f)\n",
    "pickle.dump([3, \"Priyashi\", 90], f)\n",
    "pickle.dump([4, \"Kanupriya\", 80], f)\n",
    "pickle.dump([5, \"Ashutosh\", 85], f)\n",
    "f.close()\n",
    "\n",
    "#opeining the file to read contents\n",
    "f=open(\"C:\\\\Users\\\\resha\\\\python\\\\stud_u.txt\", \"rb\")\n",
    "roll=int(input(\"Enter the Roll Number: \"))\n",
    "marks=float(input(\"Enter the updated marks: \"))\n",
    "List = [ ] #empty list\n",
    "flag = False #turns to True if record is found\n",
    "while True:\n",
    "    try:\n",
    "        record=pickle.load(f)\n",
    "        List.append(record)\n",
    "    except EOFError:\n",
    "        break\n",
    "f.close()\n",
    "\n",
    "#reopening the file to update the marks\n",
    "f=open(\"C:\\\\Users\\\\resha\\\\python\\\\stud_u.txt\", \"wb\")\n",
    "for rec in List:\n",
    "    if rec[0]==roll:\n",
    "        rec[2] = marks\n",
    "        pickle.dump(rec, f)\n",
    "        print(\"Record updated successfully\")\n",
    "        flag = True\n",
    "    else:\n",
    "        pickle.dump(rec,f)\n",
    "f.close()\n",
    "if flag==False:\n",
    "    print(\"This roll number does not exist\")"
   ]
  },
  {
   "cell_type": "code",
   "execution_count": null,
   "id": "bf824f47",
   "metadata": {},
   "outputs": [],
   "source": [
    "#Write a program to create a binary file with roll number, name and marks. Input a roll number and delete the record with a user entered roll number\n",
    "import pickle\n",
    "import os\n",
    "#creating the file and writing the data\n",
    "f=open(\"C:\\\\Users\\\\resha\\\\python\\\\stud_u.txt\", \"wb\")\n",
    "#list index 0 = roll number\n",
    "#list index 1 = name\n",
    "#list index 2 = marks\n",
    "dict={}\n",
    "#=open(\"C:\\\\Users\\\\resha\\\\python\\\\stud_u.txt\",\"rb\n",
    "no=int(input(\"Enter the No. of Students:\"))\n",
    "for i in range(no):\n",
    "    print(\"Enter the Details of the Students:\",i+1)\n",
    "    dict[\"roll\"]=int(input(\"Enter Roll Number:\"))\n",
    "    dict[\"name\"]=input(\"Enter the name:\")\n",
    "    pickle.dump(dict,f)\n",
    "f.close() \n",
    "\n",
    "f=open(\"C:\\\\Users\\\\resha\\\\python\\\\stud_u.txt\",rb)\n",
    "f1=\n",
    "try:\n",
    "    d=pickle.load(f)\n",
    "    while True:\n",
    "        if r!=d[roll]:\n",
    "            d1\n",
    "            d1\n",
    "            d1\n",
    "    pickle.dump(d1,f1)\n",
    "except EOFError:\n",
    "    f.close()\n",
    "    f1.close()\n",
    "if f==0:\n",
    "    print(\"Sorry record not availabe\")\n",
    "f.close()\n",
    "os.remove(\"C:\\\\Users\\\\resha\\\\python\\\\f.txt\")\n",
    "os.rename(\"C:\\\\Users\\\\resha\\\\python\\\\f.txt,C:\\\\Users\\\\resha\\\\python\\\\f1.txt\")"
   ]
  },
  {
   "cell_type": "code",
   "execution_count": null,
   "id": "882f4281",
   "metadata": {},
   "outputs": [],
   "source": []
  }
 ],
 "metadata": {
  "kernelspec": {
   "display_name": "Python 3 (ipykernel)",
   "language": "python",
   "name": "python3"
  },
  "language_info": {
   "codemirror_mode": {
    "name": "ipython",
    "version": 3
   },
   "file_extension": ".py",
   "mimetype": "text/x-python",
   "name": "python",
   "nbconvert_exporter": "python",
   "pygments_lexer": "ipython3",
   "version": "3.9.12"
  }
 },
 "nbformat": 4,
 "nbformat_minor": 5
}
