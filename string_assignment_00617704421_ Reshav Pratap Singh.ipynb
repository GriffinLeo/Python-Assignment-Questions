{
 "cells": [
  {
   "cell_type": "code",
   "execution_count": 9,
   "id": "0e129d62",
   "metadata": {},
   "outputs": [
    {
     "name": "stdout",
     "output_type": "stream",
     "text": [
      "Hello GriffinLeo is here\n",
      "string= Hello GriffinLeo is here and length of the string = 24\n"
     ]
    }
   ],
   "source": [
    "#assign a string and find out the length\n",
    "st=input()\n",
    "print(f\"string= {st} and length of the string = {len(st)}\")"
   ]
  },
  {
   "cell_type": "code",
   "execution_count": 10,
   "id": "a645e09e",
   "metadata": {},
   "outputs": [
    {
     "name": "stdout",
     "output_type": "stream",
     "text": [
      "Hello Griffinleo is here\n",
      "H\n",
      "e\n",
      "l\n",
      "l\n",
      "o\n",
      " \n",
      "G\n",
      "r\n",
      "i\n",
      "f\n",
      "f\n",
      "i\n",
      "n\n",
      "l\n",
      "e\n",
      "o\n",
      " \n",
      "i\n",
      "s\n",
      " \n",
      "h\n",
      "e\n",
      "r\n",
      "e\n"
     ]
    }
   ],
   "source": [
    "#accept a string and display string character by character \n",
    "st=input()\n",
    "for i in st:\n",
    "    print(i)"
   ]
  },
  {
   "cell_type": "code",
   "execution_count": 11,
   "id": "7c8c5271",
   "metadata": {},
   "outputs": [
    {
     "name": "stdout",
     "output_type": "stream",
     "text": [
      "enter any string:Griffinleo\n",
      "Griffinleo\n",
      "Gri\n",
      "Griffinleo\n",
      "finleo\n",
      "rfilo\n",
      "Gifne\n",
      "oelniffirG\n"
     ]
    }
   ],
   "source": [
    "#slicing of a string\n",
    "st=input(\"enter any string:\")\n",
    "'''print()   #print starts from 0 index to 3 index(exclusive)\n",
    "print()    #if skips the first index by default starts from 0th index\n",
    "print()    #starts from 4th index to end of the string\n",
    "print() #print every odd position character\n",
    "print()  #print even position character\n",
    "print()  #print reverse of the string'''\n",
    "\n",
    "print(st)\n",
    "print(st[0:3])\n",
    "print(st[:len(st)])\n",
    "print(st[4:])\n",
    "print(st[1::2])\n",
    "print(st[::2])\n",
    "print(st[::-1])\n"
   ]
  },
  {
   "cell_type": "code",
   "execution_count": 12,
   "id": "4135519e",
   "metadata": {},
   "outputs": [
    {
     "name": "stdout",
     "output_type": "stream",
     "text": [
      "Enter first string: Griffin\n",
      "Enter second string: Leo\n",
      "Griffin\n",
      "Leo\n",
      "Griffin Leo\n"
     ]
    }
   ],
   "source": [
    "#concatenation of the string or \n",
    "'''Accept two words as input and print the two words after adding a space between them.'''\n",
    "st=input(\"Enter first string: \")\n",
    "st1=input(\"Enter second string: \")\n",
    "st2=st+\" \"+st1\n",
    "print(st)\n",
    "print(st1)\n",
    "print(st2)"
   ]
  },
  {
   "cell_type": "code",
   "execution_count": 13,
   "id": "a9567dc2",
   "metadata": {},
   "outputs": [
    {
     "name": "stdout",
     "output_type": "stream",
     "text": [
      "hihihihihi\n"
     ]
    }
   ],
   "source": [
    "#repitition of a particular string into n times\n",
    "print(\"hi\"*5)"
   ]
  },
  {
   "cell_type": "code",
   "execution_count": 14,
   "id": "652c1341",
   "metadata": {},
   "outputs": [
    {
     "name": "stdout",
     "output_type": "stream",
     "text": [
      "Enter the Registration Number:TN-10-AB-2010\n",
      "Your State-Code :TN\n"
     ]
    }
   ],
   "source": [
    "'''Accept the registration number of a vehicle as input and print its state-code as output. \n",
    "for example TN-10-AB-2010->TN'''\n",
    "st=input(\"Enter the Registration Number:\")\n",
    "print(f\"Your State-Code :{st[0:2]}\")"
   ]
  },
  {
   "cell_type": "code",
   "execution_count": 15,
   "id": "a5e0ff5b",
   "metadata": {},
   "outputs": [
    {
     "name": "stdout",
     "output_type": "stream",
     "text": [
      "Enter Date:21-08-1999\n",
      "Your Years:1999\n"
     ]
    }
   ],
   "source": [
    "'''Accept the date in DD-MM-YYYY format as input and print the year as output.'''\n",
    "st=input(\"Enter Date:\")\n",
    "print(f\"Your Years:{st[6:]}\")"
   ]
  },
  {
   "cell_type": "code",
   "execution_count": 1,
   "id": "72e565b8",
   "metadata": {},
   "outputs": [
    {
     "name": "stdout",
     "output_type": "stream",
     "text": [
      "Enter the string:Hello GriffinLeo is here\n",
      "Enter the word:is\n",
      "is is Exist\n"
     ]
    }
   ],
   "source": [
    "#membership in function or check a particular character is exist or not\n",
    "st=input(\"Enter the string:\")\n",
    "ch=input(\"Enter the word:\")\n",
    "if ch in st:\n",
    "    print(f\"{ch} is Exist\")\n",
    "else:\n",
    "    print(f\"{ch} is not Exist\")"
   ]
  },
  {
   "cell_type": "code",
   "execution_count": 2,
   "id": "06cd529b",
   "metadata": {},
   "outputs": [
    {
     "name": "stdout",
     "output_type": "stream",
     "text": [
      "Griffinleo\n",
      "f\n",
      "Grif"
     ]
    }
   ],
   "source": [
    "#accept a string and display a string upto a particular character\n",
    "st=input()\n",
    "ch=input()\n",
    "for i in range(len(st)):\n",
    "    if st[i]!=ch:\n",
    "        print(st[i],end=\"\")\n",
    "    else:\n",
    "        print(st[i],end=\"\")\n",
    "        break"
   ]
  },
  {
   "cell_type": "code",
   "execution_count": 3,
   "id": "7674fa0f",
   "metadata": {},
   "outputs": [
    {
     "name": "stdout",
     "output_type": "stream",
     "text": [
      "Griffinleo\n",
      "Griffinleo\n",
      " G r i f f i n l e o \n"
     ]
    }
   ],
   "source": [
    "#accept a string and put space within characters\n",
    "st=input()\n",
    "st1=\" \"\n",
    "for i in st:\n",
    "    st1=st1+i+\" \"\n",
    "print(st)\n",
    "print(st1)  "
   ]
  },
  {
   "cell_type": "code",
   "execution_count": 6,
   "id": "1b7aa97e",
   "metadata": {},
   "outputs": [
    {
     "name": "stdout",
     "output_type": "stream",
     "text": [
      "Griffinleo\n",
      "i\n",
      "2\n"
     ]
    }
   ],
   "source": [
    "#inbuilt function-count used for ----occurrence of particular character\n",
    "st=input()\n",
    "ch=input()\n",
    "print(st.count(ch))"
   ]
  },
  {
   "cell_type": "code",
   "execution_count": 7,
   "id": "0b17b4f6",
   "metadata": {},
   "outputs": [
    {
     "name": "stdout",
     "output_type": "stream",
     "text": [
      "Enter string:Griffinleo\n",
      "Number of vowels are:4\n"
     ]
    }
   ],
   "source": [
    "#accept a string and count the total number of vowels in the existing string\n",
    "\n",
    "st=input(\"Enter string:\")\n",
    "vowels=0\n",
    "for i in st:\n",
    "    if(i=='a' or i=='e' or i=='i' or i=='o' or i=='u' or i=='A' or i=='E' or i=='I' or i=='O' or i=='U'):\n",
    "        vowels=vowels+1\n",
    "print(f\"Number of vowels are:{vowels}\")"
   ]
  },
  {
   "cell_type": "code",
   "execution_count": 8,
   "id": "3a82c2b0",
   "metadata": {},
   "outputs": [
    {
     "name": "stdout",
     "output_type": "stream",
     "text": [
      "Hello\n",
      "Griffin\n",
      "Leo\n",
      "is\n",
      "here\n",
      "Hello Griffin Leo is here.\n"
     ]
    }
   ],
   "source": [
    "'''Accept five words as input and print the sentence formed by these words after adding a space between consecutive\n",
    "words and a full stop at the end.'''\n",
    "a,b,c,d,e=input(),input(),input(),input(),input()\n",
    "s=\" \"\n",
    "st=a+s+b+s+c+s+d+s+e+\".\"\n",
    "print(st)"
   ]
  },
  {
   "cell_type": "code",
   "execution_count": 9,
   "id": "40087f47",
   "metadata": {},
   "outputs": [
    {
     "name": "stdout",
     "output_type": "stream",
     "text": [
      "Enter the string:Hello Griffinleo is here\n",
      "Enter the word:is\n",
      "Yes\n",
      "1\n"
     ]
    }
   ],
   "source": [
    "'''In the first line of input, accept a sequence of space-separated words. In the second line of input, accept a \n",
    "single word. If this word is not present in the sequence, print NO. If this word is present in the sequence, then \n",
    "print YES and in the next line of the output, print the number of times the word appears in the sequence. for example:\n",
    "a good collection of words\n",
    "the-> no\n",
    "no sentence can begin with because because because is a conjunction\n",
    "because-> yes'''\n",
    "st=input(\"Enter the string:\")\n",
    "ch=input(\"Enter the word:\")\n",
    "if st.find(ch)!=-1:\n",
    "    print(\"Yes\")\n",
    "    print(st.count(ch))\n",
    "else:\n",
    "    print(\"No\") "
   ]
  },
  {
   "cell_type": "code",
   "execution_count": 10,
   "id": "f136faf0",
   "metadata": {},
   "outputs": [
    {
     "name": "stdout",
     "output_type": "stream",
     "text": [
      "Enter the password:Reshav00617704421\n",
      "True\n"
     ]
    }
   ],
   "source": [
    "'''Accept a string as input. Your task is to determine if the input string is a valid password or not. For a string to be\n",
    "valid password, it must satisfy all the conditons given below:\n",
    "1) It should have at least 8 and atmost 32 characters\n",
    "2) It should start with an uppercase or lowercase letter\n",
    "3) It should not have any of these characters: / \\ = ' \"\n",
    "4) It should not have spaces\n",
    "It could have any character that is not mentioned in the list of characters to be avoided(points 3 and 4). Output True if\n",
    "the string  forms a valid password and false otherwise. for example:1)abcd1234-> true 2)pass/word -> false 3) no_password-> true'''\n",
    "\n",
    "p=input(\"Enter the password:\")\n",
    "if len(p)>=8 and len(p)<=32:\n",
    "    if p[0].islower() or p[0].isupper():\n",
    "        if p.count('/')==0 and p.count(\"\\\\\")==0 and p.count(\"=\")==0 and p.count('\\\"')==0 and p.count('\\'')==0:\n",
    "            if p.count(' ')==0:\n",
    "                print(\"True\")\n",
    "            else:\n",
    "                print(\"False\")\n",
    "        else:\n",
    "            print(\"False\")\n",
    "    else:\n",
    "        print(\"False\")\n",
    "else:\n",
    "    print(\"False\")         "
   ]
  },
  {
   "cell_type": "code",
   "execution_count": 11,
   "id": "aebfa32a",
   "metadata": {},
   "outputs": [
    {
     "name": "stdout",
     "output_type": "stream",
     "text": [
      "Bharatanatyam\n",
      " aaaaabhmnrtty\n"
     ]
    }
   ],
   "source": [
    "'''Accept a string as input, convert it to lower case, sort the string in alphabetical order, and print the sorted \n",
    "string to the console. You can assume that the string will only contain letters. for example:\n",
    "Bharatanatyam->aaaaabhmnrtty'''\n",
    "st=input()\n",
    "st=st.lower()\n",
    "s=\" \"\n",
    "for i in sorted(st):\n",
    "    s=s+i\n",
    "print(s)"
   ]
  },
  {
   "cell_type": "code",
   "execution_count": 32,
   "id": "56d55f6d",
   "metadata": {},
   "outputs": [
    {
     "name": "stdout",
     "output_type": "stream",
     "text": [
      "9888886754\n",
      "true\n",
      "true\n",
      "true\n",
      "true\n",
      "true\n",
      "true\n",
      "true\n",
      "true\n",
      "true\n",
      "true\n",
      "false\n"
     ]
    }
   ],
   "source": [
    "'''Accept a phone number as input. A valid phone number should satisfy the following constraints.\n",
    "(1) The number should start with one of these digits: 6, 7, 8, 9\n",
    "\n",
    "(2) The number should be exactly 10 digits long.\n",
    "\n",
    "(3) No digit should appear more than 7 times in the number.\n",
    "\n",
    "(4) No digit should appear more than 5 times in a row in the number.\n",
    "\n",
    "If the fourth condition is not very clear, then consider this example: the number 9888888765 is invalid because \n",
    "the digit 8 appears more than 5 times in a row. Print the string valid if the phone number is valid. If not, print\n",
    "the string invalid. for example: 9888886754-> valid   9898999999->invalid'''\n",
    "\n",
    "p=input()\n",
    "#for i in range(p):\n",
    "if p[0] in ['6','7','8','9']:\n",
    "    if len(p)==10:\n",
    "        for i in p:\n",
    "            p.count(i)<=7\n",
    "            for i in p:\n",
    "                p.count(i)<=5\n",
    "                print(\"true\")\n",
    "                break\n",
    "            else:\n",
    "                print(\"false\")\n",
    "        else:\n",
    "            print(\"false\")\n",
    "    else:\n",
    "        print(\"false\")\n",
    "else:\n",
    "    print(\"false\")\n",
    "#else:\n",
    "    #print(\"false\")"
   ]
  },
  {
   "cell_type": "code",
   "execution_count": 12,
   "id": "b3ef8fde",
   "metadata": {},
   "outputs": [
    {
     "name": "stdout",
     "output_type": "stream",
     "text": [
      "Enter the Email Id:CS_BT_21_7412@student.onlinedegree.iitm.ac.in\n",
      "Branch: CS\n",
      "Degree: BT\n",
      "Year: 21\n",
      "Roll No: 7412\n",
      "Institute: iitm\n"
     ]
    }
   ],
   "source": [
    "'''Assume that several IITs start offering online degrees across multiple branches. The email-id of a student is defined \n",
    "as follows: branch_degree_year_roll@student.onlinedegree.institute.ac.in For example, if the email-id is \n",
    "CS_BT_21_7412@student.onlinedegree.iitm.ac.in, then this student is from the computer science branch, pursuing a BTech \n",
    "degree from IITM, starting from the year 2021, with 7412 as the roll number. branch, degree and year are codes of length \n",
    "two, while roll and institute are codes of length four. Accept a student's email-id as input and print the following details\n",
    ", one item on each line: (1) Branch (2) Degree 3) Year (4) Roll number (5) Institute'''\n",
    "\n",
    "st=input(\"Enter the Email Id:\")\n",
    "print(\"Branch:\",st[:2])\n",
    "print(\"Degree:\",st[3:5])\n",
    "print(\"Year:\",st[6:8])\n",
    "print(\"Roll No:\",st[9:13])\n",
    "print(\"Institute:\",st[35:39])"
   ]
  },
  {
   "cell_type": "code",
   "execution_count": 14,
   "id": "38b3ac13",
   "metadata": {},
   "outputs": [
    {
     "name": "stdout",
     "output_type": "stream",
     "text": [
      "hello griffinleo is here\n",
      "hello griffinleo is here.\n"
     ]
    }
   ],
   "source": [
    "'''Accept a string as input. If the input string is of odd length, then continue with it. If the input string is of even \n",
    "length, make the string of odd length as below: \n",
    "->If the last character is a period (.), then remove it\n",
    "->If the last character is not a period, then add a period (.) to the end of the string\n",
    "Call this string of odd length word. Select a substring made up of three consecutive characters from word such that there \n",
    "are an equal number of characters to the left and right of this substring. Print this substring as output. You can assume \n",
    "that all input strings will be in lower case and will have a length of at least four.'''\n",
    "\n",
    "st=input()\n",
    "if st.islower()!=0:\n",
    "    if len(st)>=4: \n",
    "        if len(st)%2:\n",
    "            print(st.replace(\".\",\"\"))\n",
    "        else:\n",
    "            s1=st+\".\"\n",
    "            print(s1)\n",
    "    else:\n",
    "        print(\"String value is less than 4\")\n",
    "else:\n",
    "    print(\"String is not lower\")"
   ]
  },
  {
   "cell_type": "code",
   "execution_count": 19,
   "id": "9b19f29c",
   "metadata": {},
   "outputs": [
    {
     "name": "stdout",
     "output_type": "stream",
     "text": [
      "a\n",
      "ab\n",
      "abc\n",
      "abcd\n",
      "abcde\n"
     ]
    }
   ],
   "source": [
    "'''A sequence of five words is called magical if the ith word is a substring of the (i+1)th word for every i in the range\n",
    "1<=i<5. accept a sequence of five words as input, one word on each line. print magical if the sequence is magical and \n",
    "non-magical otherwise. Note that str_1 is a substring of str_2 if and only if str_1 is present as a sequence of consecutive\n",
    "characters in str_2. for example:\n",
    "a \n",
    "ab\n",
    "abc\n",
    "abcd\n",
    "abcde  magical\n",
    "a\n",
    "ab\n",
    "acdb\n",
    "efghi\n",
    "abcdefghi non-magical'''\n",
    "\n",
    "#st=input()\n",
    "\n",
    "n = 5\n",
    "\n",
    "for i in range(1,n+1):\n",
    "    a = 97\n",
    "    for j in range(1, i+1):\n",
    "        print(\"%c\" %(a), end=\"\")\n",
    "        a += 1\n",
    "    print()\n",
    "\n"
   ]
  },
  {
   "cell_type": "code",
   "execution_count": 58,
   "id": "97d7afa9",
   "metadata": {},
   "outputs": [
    {
     "name": "stdout",
     "output_type": "stream",
     "text": [
      "Enter string:Moon flowers bloom only at night, closing during  the day.\n",
      "aaeeiiiooooooounone\n"
     ]
    }
   ],
   "source": [
    "'''Accept a string as input and print the vowels present in the string in alphabetical order. if the string doesnot \n",
    "contain any vowels,then print the string none as output. each vowel that appears in the input string irrespective of its \n",
    "case - should appear just once in lower case in the output. for example Moon flowers bloom only at night, closing during \n",
    "the day.->aeiou 1 YARD (yd) = 3 FEET (ft).->ae'''\n",
    "\n",
    "st=input(\"Enter string:\")\n",
    "vowels=0\n",
    "for i in sorted(st):\n",
    "    if(i=='a' or i=='e' or i=='i' or i=='o' or i=='u' or i=='A' or i=='E' or i=='I' or i=='O' or i=='U'):\n",
    "        print(i,end=\"\")\n",
    "        vowels=vowels+1\n",
    "else:\n",
    "    print(\"none\")"
   ]
  },
  {
   "cell_type": "code",
   "execution_count": 8,
   "id": "3d82f71c",
   "metadata": {},
   "outputs": [
    {
     "name": "stdout",
     "output_type": "stream",
     "text": [
      "Enter the Date of Birth of 1st person:21-08-1999\n",
      "Enter name 1st Person: GriffinLeo\n",
      "Enter the Date of Birth of 2nd person:03-08-2004\n",
      "Enter name 2nd Person: Stingray\n",
      "\n",
      "Stingray is younger\n"
     ]
    }
   ],
   "source": [
    "'''You are given the date of birth of two persons, not necessarily from the same family. your task is to find the younger \n",
    "of the two. if both of them share the same date of birth, then the younger of the two is assumed to be that person whose\n",
    "name comes first in alphabetical order. The input will have four lines. The first two lines correspond to the first person,\n",
    "while the last two lines correspond to the second person. For each person, the first line corresponds to the name and the \n",
    "second line corresponds to the date of birth in \"DD-MM-YYYY\" format. your output should be the name of the younger of the \n",
    "two.'''\n",
    "\n",
    "st=input(\"Enter the Date of Birth of 1st person:\")\n",
    "name=input(\"Enter name 1st Person: \")\n",
    "st1=input(\"Enter the Date of Birth of 2nd person:\")\n",
    "name2=input(\"Enter name 2nd Person: \")\n",
    "\n",
    "\n",
    "if st[6:]<st1[6:]:\n",
    "    print(f\"\\n{name2} is younger\")\n",
    "elif st[6:]>st1[6:]:\n",
    "    print(f\"\\n{name1} is younger\")\n",
    "else:\n",
    "    if st[3:5]>st1[3:5]:\n",
    "        print(f\"\\n{name1} is younger \")\n",
    "    elif  st[3:5]<st1[3:5]:\n",
    "        print(f\"\\n{name2} is younger \")\n",
    "    else:\n",
    "        if st[0:2]>st1[0:2]:\n",
    "            print(f\"\\n{name1} is younger\")\n",
    "        elif st[0:2]<st1[0:2]:\n",
    "            print(f\"\\n{name2} is younger\")\n",
    "        else:\n",
    "            if name<name1:\n",
    "                print(f\"\\n{name} is younger\")\n",
    "            elif name>name1:\n",
    "                print(f\"\\n{name1} is younger\")\n",
    "            else:\n",
    "                print(\"\\nCan't determine \")"
   ]
  },
  {
   "cell_type": "code",
   "execution_count": 18,
   "id": "a4c2b90e",
   "metadata": {},
   "outputs": [
    {
     "name": "stdout",
     "output_type": "stream",
     "text": [
      "7\n",
      "7\n"
     ]
    }
   ],
   "source": [
    "#inbuilt function-find and rfind\n",
    "#find function is used to find the first occurence of a substring in the main string \n",
    "#rfind function is used to find the last occurrence of a substring in the main string\n",
    "\n",
    "st=\"Hello, Griffinleo is here\"\n",
    "print(st.find(\"Griffinleo\"))\n",
    "print(st.rfind(\"Griffinleo\"))"
   ]
  },
  {
   "cell_type": "code",
   "execution_count": 15,
   "id": "ef7ddcbe",
   "metadata": {},
   "outputs": [
    {
     "name": "stdout",
     "output_type": "stream",
     "text": [
      "enter any string:Hello Griffinleo is here\n",
      "Hello griffinleo is here\n",
      "Hello Griffinleo Is Here\n",
      "hello griffinleo is here\n",
      "HELLO GRIFFINLEO IS HERE\n",
      "hELLO gRIFFINLEO IS HERE\n",
      "['Hello', 'Griffinleo', 'is', 'here']\n",
      "('Hello ', 'Griffinleo', ' is here')\n",
      "Amar_Akbar_Anthony\n"
     ]
    }
   ],
   "source": [
    "#inbuilt function capitalize,title,lower,upper, swapcase, replace, split, partition and join function\n",
    "st=input(\"enter any string:\")\n",
    "#display in capital case - converting first character of a line to uppercase character\n",
    "\n",
    "print(st.capitalize())\n",
    "\n",
    "\n",
    "#display in title case - converting first character of each word to uppercase character\n",
    "\n",
    "print(st.title())\n",
    "\n",
    "#display in lower case -  converting all charcters to lowercase character\n",
    "\n",
    "print(st.lower())\n",
    "\n",
    "#display in upper case -  converting all charcters to uppercase character\n",
    "\n",
    "print(st.upper())\n",
    "\n",
    "#display in swap case - to convert lowercase letters in a string to uppercase letters and viceversa\n",
    "\n",
    "print(st.swapcase())\n",
    "\n",
    "#replace function\n",
    "'''replace allows to replace part of a string by another string. it takes 2 arguments\n",
    "first argument is used to specify the substring that is to be replaced.\n",
    "second argument -to specify the string that replaces the first string'''\n",
    "\n",
    "st.replace(\"GriffinLeo\", \"Reshav\")\n",
    "\n",
    "\n",
    "#split functions enables us to split a string into a list of strings based on the delimiter.\n",
    "#if not delimiter is specified, split uses whitespace as the default delimiter.\n",
    "\n",
    "print(st.split())\n",
    "\n",
    "#partition function is used to divide a string into two parts based on the delimiter and returns a tuple\n",
    "\n",
    "print(st.partition(\"Griffinleo\"))\n",
    "\n",
    "#Join function returns a string comprising elements of a sequence separated by the specified delimiter.\n",
    "\n",
    "st1=(\"Amar\",\"Akbar\",\"Anthony\")\n",
    "\n",
    "print(\"_\".join(st1))\n"
   ]
  },
  {
   "cell_type": "code",
   "execution_count": 16,
   "id": "5614fdd9",
   "metadata": {},
   "outputs": [
    {
     "name": "stdout",
     "output_type": "stream",
     "text": [
      "Hello,Griffinleo is here\n",
      "Enter the String for checking Lowercase:griffinleo\n",
      "True\n",
      "Enter the String for checking Uppercase:GRIFFINLEO\n",
      "True\n",
      "Enter the String for checking istitle:Griffinleo\n",
      "True\n",
      "Enter the String for checking isalpha:Griffinleo\n",
      "True\n",
      "Enter the String for checking isdigit:7480Griffi\n",
      "False\n",
      "Isspace is working True\n",
      "Enter the String for checking isalnum:006Reshav\n",
      "True\n"
     ]
    }
   ],
   "source": [
    "#inbuilt function -replace, islower, isupper, istitle, isspace, isalpha, isdigit and isalnum\n",
    "\n",
    "#replace to replace the letters\n",
    "\n",
    "st = \"Hello,Reshav is here\"\n",
    "x = st.replace(\"Reshav\", \"Griffinleo\")\n",
    "print(x)\n",
    "\n",
    "#islower to check all letters in a string in lowercase or not\n",
    "\n",
    "st1=input(\"Enter the String for checking Lowercase:\")\n",
    "x=st1.islower()\n",
    "if(x==0):\n",
    "    print(x)\n",
    "else:\n",
    "    print(x)\n",
    "    \n",
    "    \n",
    "#isupper to check all letters in a string in uppercase or not\n",
    "\n",
    "st2=input(\"Enter the String for checking Uppercase:\")\n",
    "x=st2.isupper()\n",
    "if(x==0):\n",
    "    print(x)\n",
    "else:\n",
    "    print(x)\n",
    "\n",
    "#istitle to check all letters in a string in titlecase or not\n",
    "\n",
    "st3=input(\"Enter the String for checking istitle:\")\n",
    "x=st3.istitle()\n",
    "if(x==0):\n",
    "    print(x)\n",
    "else:\n",
    "    print(x)\n",
    "    \n",
    "#isalpha to check all letters in a string in alphabets or not\n",
    "\n",
    "st4=input(\"Enter the String for checking isalpha:\")\n",
    "x=st4.isalpha()\n",
    "if(x==0):\n",
    "    print(x)\n",
    "else:\n",
    "    print(x)\n",
    "     \n",
    "#isdigit to check all letters in a string in digits only or not\n",
    "\n",
    "st5=input(\"Enter the String for checking isdigit:\")\n",
    "x=st5.isdigit()\n",
    "if(x==0):\n",
    "    print(x)\n",
    "else:\n",
    "    print(x)\n",
    "\n",
    "#isspace to check all letters in a string in white space or not\n",
    "\n",
    "st6 = \"   \"\n",
    "x = st6.isspace()\n",
    "print(\"Isspace is working\",x)\n",
    "    \n",
    "#isalnum to check all letters in a string contains alphabets  or digits only or not\n",
    "\n",
    "st7=input(\"Enter the String for checking isalnum:\")\n",
    "x=st7.isalnum()\n",
    "if(x==0):\n",
    "    print(x)\n",
    "else:\n",
    "    print(x)\n"
   ]
  },
  {
   "cell_type": "code",
   "execution_count": 17,
   "id": "fc683798",
   "metadata": {},
   "outputs": [
    {
     "name": "stdout",
     "output_type": "stream",
     "text": [
      "Hello Griffinleo      is here.\n",
      "Hello      Griffinleo is here.\n",
      "Hello Griffinleo is here.\n"
     ]
    }
   ],
   "source": [
    "#inbuilt function - strip, lstrip and rstrip function\n",
    "\n",
    "\n",
    "\n",
    "#lstrip function removes whitespaces from the beginning of the string\n",
    "\n",
    "st=\"     Griffinleo     \"\n",
    "x = st.lstrip()\n",
    "print(\"Hello\",x,\"is here.\")\n",
    "\n",
    "#rstrip function removes whitespaces from the end of the string\n",
    "\n",
    "st=\"     Griffinleo     \"\n",
    "x = st.rstrip()\n",
    "print(\"Hello\",x,\"is here.\")\n",
    "\n",
    "#strip function removes whitespaces from the beginning as well as the end of the string\n",
    "\n",
    "st=\"     Griffinleo     \"\n",
    "x = st.strip()\n",
    "print(\"Hello\",x,\"is here.\")"
   ]
  }
 ],
 "metadata": {
  "kernelspec": {
   "display_name": "Python 3 (ipykernel)",
   "language": "python",
   "name": "python3"
  },
  "language_info": {
   "codemirror_mode": {
    "name": "ipython",
    "version": 3
   },
   "file_extension": ".py",
   "mimetype": "text/x-python",
   "name": "python",
   "nbconvert_exporter": "python",
   "pygments_lexer": "ipython3",
   "version": "3.9.7"
  }
 },
 "nbformat": 4,
 "nbformat_minor": 5
}
